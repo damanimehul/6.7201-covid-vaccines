{
 "cells": [
  {
   "cell_type": "code",
   "execution_count": 1,
   "metadata": {},
   "outputs": [],
   "source": [
    "using CSV, DataFrames, JuMP, Gurobi, Plots, HDF5, JLD"
   ]
  },
  {
   "cell_type": "code",
   "execution_count": 2,
   "metadata": {},
   "outputs": [],
   "source": [
    "# Some constants for the model\n",
    "alpha = 0.1 # Hospitalization rate for non-vaccinated\n",
    "beta = 0.02 ;# Hospitalization rate for vaccinated \n",
    "gamma = 0.1 # State can only vaccinate 10% of population per week\n",
    "file_name = \"solution_real\" ; # JLD file to save the solution variables in for later analysis "
   ]
  },
  {
   "cell_type": "code",
   "execution_count": 34,
   "metadata": {},
   "outputs": [
    {
     "name": "stdout",
     "output_type": "stream",
     "text": [
      "C: (50, 52)\n",
      "P: (50,)\n",
      "V: (52,)\n"
     ]
    }
   ],
   "source": [
    "data_folder = 'real_world_data' \n",
    "# Load csv files\n",
    "case_file = \"case_data_real.csv\"\n",
    "population_file = \"population_data_real.csv\"\n",
    "vaccine_file = \"vaccine_data_real.csv\"\n",
    "\n",
    "case_data = CSV.read(case_file, DataFrame)\n",
    "population_data = CSV.read(population_file, DataFrame)\n",
    "vaccine_data = CSV.read(vaccine_file, DataFrame)\n",
    "\n",
    "#extract 'population' column from population_data\n",
    "population_data = population_data[:,2] \n",
    "\n",
    "P = Vector(population_data)\n",
    "C = Matrix(case_data)\n",
    "V = Matrix(vaccine_data)\n",
    "# convert population data to matrix\n",
    "\n",
    "C =C'\n",
    "V = V[:,1]\n",
    "\n",
    "println(\"C: \", size(C))\n",
    "println(\"P: \", size(P))\n",
    "println(\"V: \", size(V))"
   ]
  },
  {
   "cell_type": "code",
   "execution_count": 160,
   "metadata": {},
   "outputs": [
    {
     "name": "stdout",
     "output_type": "stream",
     "text": [
      "Number of states: 1:50\n",
      "Number of weeks: 1:20\n"
     ]
    }
   ],
   "source": [
    "n_states = 1:size(case_data, 2)\n",
    "n_weeks = 1:size(case_data, 1) \n",
    "n_weeks_2 = 1:size(case_data, 1)-1 \n",
    "\n",
    "total_states = length(n_states) \n",
    "total_weeks = length(n_weeks) \n",
    "println(\"Number of states: \", n_states)\n",
    "println(\"Number of weeks: \", n_weeks)"
   ]
  },
  {
   "cell_type": "code",
   "execution_count": 161,
   "metadata": {},
   "outputs": [
    {
     "name": "stdout",
     "output_type": "stream",
     "text": [
      "Set parameter Username\n",
      "Academic license - for non-commercial use only - expires 2024-03-24\n"
     ]
    },
    {
     "data": {
      "text/plain": [
       "A JuMP Model\n",
       "Feasibility problem with:\n",
       "Variables: 0\n",
       "Model mode: AUTOMATIC\n",
       "CachingOptimizer state: EMPTY_OPTIMIZER\n",
       "Solver name: Gurobi"
      ]
     },
     "execution_count": 161,
     "metadata": {},
     "output_type": "execute_result"
    }
   ],
   "source": [
    "model = Model(Gurobi.Optimizer)"
   ]
  },
  {
   "cell_type": "code",
   "execution_count": 162,
   "metadata": {},
   "outputs": [
    {
     "data": {
      "text/plain": [
       "2-dimensional DenseAxisArray{VariableRef,2,...} with index sets:\n",
       "    Dimension 1, 1:50\n",
       "    Dimension 2, 1:20\n",
       "And data, a 50×20 Matrix{VariableRef}:\n",
       " X[1,1]   X[1,2]   X[1,3]   X[1,4]   X[1,5]   …  X[1,18]   X[1,19]   X[1,20]\n",
       " X[2,1]   X[2,2]   X[2,3]   X[2,4]   X[2,5]      X[2,18]   X[2,19]   X[2,20]\n",
       " X[3,1]   X[3,2]   X[3,3]   X[3,4]   X[3,5]      X[3,18]   X[3,19]   X[3,20]\n",
       " X[4,1]   X[4,2]   X[4,3]   X[4,4]   X[4,5]      X[4,18]   X[4,19]   X[4,20]\n",
       " X[5,1]   X[5,2]   X[5,3]   X[5,4]   X[5,5]      X[5,18]   X[5,19]   X[5,20]\n",
       " X[6,1]   X[6,2]   X[6,3]   X[6,4]   X[6,5]   …  X[6,18]   X[6,19]   X[6,20]\n",
       " X[7,1]   X[7,2]   X[7,3]   X[7,4]   X[7,5]      X[7,18]   X[7,19]   X[7,20]\n",
       " X[8,1]   X[8,2]   X[8,3]   X[8,4]   X[8,5]      X[8,18]   X[8,19]   X[8,20]\n",
       " X[9,1]   X[9,2]   X[9,3]   X[9,4]   X[9,5]      X[9,18]   X[9,19]   X[9,20]\n",
       " X[10,1]  X[10,2]  X[10,3]  X[10,4]  X[10,5]     X[10,18]  X[10,19]  X[10,20]\n",
       " X[11,1]  X[11,2]  X[11,3]  X[11,4]  X[11,5]  …  X[11,18]  X[11,19]  X[11,20]\n",
       " X[12,1]  X[12,2]  X[12,3]  X[12,4]  X[12,5]     X[12,18]  X[12,19]  X[12,20]\n",
       " X[13,1]  X[13,2]  X[13,3]  X[13,4]  X[13,5]     X[13,18]  X[13,19]  X[13,20]\n",
       " ⋮                                            ⋱                      \n",
       " X[39,1]  X[39,2]  X[39,3]  X[39,4]  X[39,5]     X[39,18]  X[39,19]  X[39,20]\n",
       " X[40,1]  X[40,2]  X[40,3]  X[40,4]  X[40,5]     X[40,18]  X[40,19]  X[40,20]\n",
       " X[41,1]  X[41,2]  X[41,3]  X[41,4]  X[41,5]  …  X[41,18]  X[41,19]  X[41,20]\n",
       " X[42,1]  X[42,2]  X[42,3]  X[42,4]  X[42,5]     X[42,18]  X[42,19]  X[42,20]\n",
       " X[43,1]  X[43,2]  X[43,3]  X[43,4]  X[43,5]     X[43,18]  X[43,19]  X[43,20]\n",
       " X[44,1]  X[44,2]  X[44,3]  X[44,4]  X[44,5]     X[44,18]  X[44,19]  X[44,20]\n",
       " X[45,1]  X[45,2]  X[45,3]  X[45,4]  X[45,5]     X[45,18]  X[45,19]  X[45,20]\n",
       " X[46,1]  X[46,2]  X[46,3]  X[46,4]  X[46,5]  …  X[46,18]  X[46,19]  X[46,20]\n",
       " X[47,1]  X[47,2]  X[47,3]  X[47,4]  X[47,5]     X[47,18]  X[47,19]  X[47,20]\n",
       " X[48,1]  X[48,2]  X[48,3]  X[48,4]  X[48,5]     X[48,18]  X[48,19]  X[48,20]\n",
       " X[49,1]  X[49,2]  X[49,3]  X[49,4]  X[49,5]     X[49,18]  X[49,19]  X[49,20]\n",
       " X[50,1]  X[50,2]  X[50,3]  X[50,4]  X[50,5]     X[50,18]  X[50,19]  X[50,20]"
      ]
     },
     "execution_count": 162,
     "metadata": {},
     "output_type": "execute_result"
    }
   ],
   "source": [
    "@variable(model, X[n_states, n_weeks] >= 0);\n",
    "X"
   ]
  },
  {
   "cell_type": "code",
   "execution_count": 163,
   "metadata": {},
   "outputs": [
    {
     "data": {
      "text/plain": [
       "2-dimensional DenseAxisArray{VariableRef,2,...} with index sets:\n",
       "    Dimension 1, 1:50\n",
       "    Dimension 2, 1:20\n",
       "And data, a 50×20 Matrix{VariableRef}:\n",
       " Y[1,1]   Y[1,2]   Y[1,3]   Y[1,4]   Y[1,5]   …  Y[1,18]   Y[1,19]   Y[1,20]\n",
       " Y[2,1]   Y[2,2]   Y[2,3]   Y[2,4]   Y[2,5]      Y[2,18]   Y[2,19]   Y[2,20]\n",
       " Y[3,1]   Y[3,2]   Y[3,3]   Y[3,4]   Y[3,5]      Y[3,18]   Y[3,19]   Y[3,20]\n",
       " Y[4,1]   Y[4,2]   Y[4,3]   Y[4,4]   Y[4,5]      Y[4,18]   Y[4,19]   Y[4,20]\n",
       " Y[5,1]   Y[5,2]   Y[5,3]   Y[5,4]   Y[5,5]      Y[5,18]   Y[5,19]   Y[5,20]\n",
       " Y[6,1]   Y[6,2]   Y[6,3]   Y[6,4]   Y[6,5]   …  Y[6,18]   Y[6,19]   Y[6,20]\n",
       " Y[7,1]   Y[7,2]   Y[7,3]   Y[7,4]   Y[7,5]      Y[7,18]   Y[7,19]   Y[7,20]\n",
       " Y[8,1]   Y[8,2]   Y[8,3]   Y[8,4]   Y[8,5]      Y[8,18]   Y[8,19]   Y[8,20]\n",
       " Y[9,1]   Y[9,2]   Y[9,3]   Y[9,4]   Y[9,5]      Y[9,18]   Y[9,19]   Y[9,20]\n",
       " Y[10,1]  Y[10,2]  Y[10,3]  Y[10,4]  Y[10,5]     Y[10,18]  Y[10,19]  Y[10,20]\n",
       " Y[11,1]  Y[11,2]  Y[11,3]  Y[11,4]  Y[11,5]  …  Y[11,18]  Y[11,19]  Y[11,20]\n",
       " Y[12,1]  Y[12,2]  Y[12,3]  Y[12,4]  Y[12,5]     Y[12,18]  Y[12,19]  Y[12,20]\n",
       " Y[13,1]  Y[13,2]  Y[13,3]  Y[13,4]  Y[13,5]     Y[13,18]  Y[13,19]  Y[13,20]\n",
       " ⋮                                            ⋱                      \n",
       " Y[39,1]  Y[39,2]  Y[39,3]  Y[39,4]  Y[39,5]     Y[39,18]  Y[39,19]  Y[39,20]\n",
       " Y[40,1]  Y[40,2]  Y[40,3]  Y[40,4]  Y[40,5]     Y[40,18]  Y[40,19]  Y[40,20]\n",
       " Y[41,1]  Y[41,2]  Y[41,3]  Y[41,4]  Y[41,5]  …  Y[41,18]  Y[41,19]  Y[41,20]\n",
       " Y[42,1]  Y[42,2]  Y[42,3]  Y[42,4]  Y[42,5]     Y[42,18]  Y[42,19]  Y[42,20]\n",
       " Y[43,1]  Y[43,2]  Y[43,3]  Y[43,4]  Y[43,5]     Y[43,18]  Y[43,19]  Y[43,20]\n",
       " Y[44,1]  Y[44,2]  Y[44,3]  Y[44,4]  Y[44,5]     Y[44,18]  Y[44,19]  Y[44,20]\n",
       " Y[45,1]  Y[45,2]  Y[45,3]  Y[45,4]  Y[45,5]     Y[45,18]  Y[45,19]  Y[45,20]\n",
       " Y[46,1]  Y[46,2]  Y[46,3]  Y[46,4]  Y[46,5]  …  Y[46,18]  Y[46,19]  Y[46,20]\n",
       " Y[47,1]  Y[47,2]  Y[47,3]  Y[47,4]  Y[47,5]     Y[47,18]  Y[47,19]  Y[47,20]\n",
       " Y[48,1]  Y[48,2]  Y[48,3]  Y[48,4]  Y[48,5]     Y[48,18]  Y[48,19]  Y[48,20]\n",
       " Y[49,1]  Y[49,2]  Y[49,3]  Y[49,4]  Y[49,5]     Y[49,18]  Y[49,19]  Y[49,20]\n",
       " Y[50,1]  Y[50,2]  Y[50,3]  Y[50,4]  Y[50,5]     Y[50,18]  Y[50,19]  Y[50,20]"
      ]
     },
     "execution_count": 163,
     "metadata": {},
     "output_type": "execute_result"
    }
   ],
   "source": [
    "@variable(model, Y[n_states, n_weeks] >= 0);\n",
    "Y"
   ]
  },
  {
   "cell_type": "code",
   "execution_count": 164,
   "metadata": {},
   "outputs": [
    {
     "data": {
      "text/plain": [
       "2-dimensional DenseAxisArray{VariableRef,2,...} with index sets:\n",
       "    Dimension 1, 1:50\n",
       "    Dimension 2, 1:20\n",
       "And data, a 50×20 Matrix{VariableRef}:\n",
       " W[1,1]   W[1,2]   W[1,3]   W[1,4]   W[1,5]   …  W[1,18]   W[1,19]   W[1,20]\n",
       " W[2,1]   W[2,2]   W[2,3]   W[2,4]   W[2,5]      W[2,18]   W[2,19]   W[2,20]\n",
       " W[3,1]   W[3,2]   W[3,3]   W[3,4]   W[3,5]      W[3,18]   W[3,19]   W[3,20]\n",
       " W[4,1]   W[4,2]   W[4,3]   W[4,4]   W[4,5]      W[4,18]   W[4,19]   W[4,20]\n",
       " W[5,1]   W[5,2]   W[5,3]   W[5,4]   W[5,5]      W[5,18]   W[5,19]   W[5,20]\n",
       " W[6,1]   W[6,2]   W[6,3]   W[6,4]   W[6,5]   …  W[6,18]   W[6,19]   W[6,20]\n",
       " W[7,1]   W[7,2]   W[7,3]   W[7,4]   W[7,5]      W[7,18]   W[7,19]   W[7,20]\n",
       " W[8,1]   W[8,2]   W[8,3]   W[8,4]   W[8,5]      W[8,18]   W[8,19]   W[8,20]\n",
       " W[9,1]   W[9,2]   W[9,3]   W[9,4]   W[9,5]      W[9,18]   W[9,19]   W[9,20]\n",
       " W[10,1]  W[10,2]  W[10,3]  W[10,4]  W[10,5]     W[10,18]  W[10,19]  W[10,20]\n",
       " W[11,1]  W[11,2]  W[11,3]  W[11,4]  W[11,5]  …  W[11,18]  W[11,19]  W[11,20]\n",
       " W[12,1]  W[12,2]  W[12,3]  W[12,4]  W[12,5]     W[12,18]  W[12,19]  W[12,20]\n",
       " W[13,1]  W[13,2]  W[13,3]  W[13,4]  W[13,5]     W[13,18]  W[13,19]  W[13,20]\n",
       " ⋮                                            ⋱                      \n",
       " W[39,1]  W[39,2]  W[39,3]  W[39,4]  W[39,5]     W[39,18]  W[39,19]  W[39,20]\n",
       " W[40,1]  W[40,2]  W[40,3]  W[40,4]  W[40,5]     W[40,18]  W[40,19]  W[40,20]\n",
       " W[41,1]  W[41,2]  W[41,3]  W[41,4]  W[41,5]  …  W[41,18]  W[41,19]  W[41,20]\n",
       " W[42,1]  W[42,2]  W[42,3]  W[42,4]  W[42,5]     W[42,18]  W[42,19]  W[42,20]\n",
       " W[43,1]  W[43,2]  W[43,3]  W[43,4]  W[43,5]     W[43,18]  W[43,19]  W[43,20]\n",
       " W[44,1]  W[44,2]  W[44,3]  W[44,4]  W[44,5]     W[44,18]  W[44,19]  W[44,20]\n",
       " W[45,1]  W[45,2]  W[45,3]  W[45,4]  W[45,5]     W[45,18]  W[45,19]  W[45,20]\n",
       " W[46,1]  W[46,2]  W[46,3]  W[46,4]  W[46,5]  …  W[46,18]  W[46,19]  W[46,20]\n",
       " W[47,1]  W[47,2]  W[47,3]  W[47,4]  W[47,5]     W[47,18]  W[47,19]  W[47,20]\n",
       " W[48,1]  W[48,2]  W[48,3]  W[48,4]  W[48,5]     W[48,18]  W[48,19]  W[48,20]\n",
       " W[49,1]  W[49,2]  W[49,3]  W[49,4]  W[49,5]     W[49,18]  W[49,19]  W[49,20]\n",
       " W[50,1]  W[50,2]  W[50,3]  W[50,4]  W[50,5]     W[50,18]  W[50,19]  W[50,20]"
      ]
     },
     "execution_count": 164,
     "metadata": {},
     "output_type": "execute_result"
    }
   ],
   "source": [
    "@variable(model, W[n_states, n_weeks] >= 0);\n",
    "W"
   ]
  },
  {
   "cell_type": "code",
   "execution_count": 165,
   "metadata": {},
   "outputs": [],
   "source": [
    "@objective(model, Min, sum(sum(Y[i,j] for i in n_states) for j in n_weeks)) ; "
   ]
  },
  {
   "cell_type": "code",
   "execution_count": 166,
   "metadata": {},
   "outputs": [
    {
     "data": {
      "text/plain": [
       "2-dimensional DenseAxisArray{ConstraintRef{Model, MathOptInterface.ConstraintIndex{MathOptInterface.ScalarAffineFunction{Float64}, MathOptInterface.EqualTo{Float64}}, ScalarShape},2,...} with index sets:\n",
       "    Dimension 1, 1:50\n",
       "    Dimension 2, 1:20\n",
       "And data, a 50×20 Matrix{ConstraintRef{Model, MathOptInterface.ConstraintIndex{MathOptInterface.ScalarAffineFunction{Float64}, MathOptInterface.EqualTo{Float64}}, ScalarShape}}:\n",
       " hospitalizations[1,1] : Y[1,1] + 41.84 W[1,1] = 52.300000000000004                  …  hospitalizations[1,20] : Y[1,20] + 1767.7600000000002 W[1,20] = 2209.7000000000003\n",
       " hospitalizations[2,1] : Y[2,1] + 29.68 W[2,1] = 37.1                                   hospitalizations[2,20] : Y[2,20] + 369.28000000000003 W[2,20] = 461.6\n",
       " hospitalizations[3,1] : Y[3,1] = 0                                                     hospitalizations[3,20] : Y[3,20] + 1520 W[3,20] = 1900\n",
       " hospitalizations[4,1] : Y[4,1] + 0.72 W[4,1] = 0.9                                     hospitalizations[4,20] : Y[4,20] + 644.96 W[4,20] = 806.2\n",
       " hospitalizations[5,1] : Y[5,1] + 591.44 W[5,1] = 739.3000000000001                     hospitalizations[5,20] : Y[5,20] + 0.16 W[5,20] = 0.2\n",
       " hospitalizations[6,1] : Y[6,1] + 1354.4 W[6,1] = 1693                               …  hospitalizations[6,20] : Y[6,20] + 8.96 W[6,20] = 11.200000000000001\n",
       " hospitalizations[7,1] : Y[7,1] + 2.3200000000000003 W[7,1] = 2.9000000000000004        hospitalizations[7,20] : Y[7,20] + 1530 W[7,20] = 1912.5\n",
       " hospitalizations[8,1] : Y[8,1] = 0                                                     hospitalizations[8,20] : Y[8,20] + 441.12 W[8,20] = 551.4\n",
       " hospitalizations[9,1] : Y[9,1] + 355.04 W[9,1] = 443.8                                 hospitalizations[9,20] : Y[9,20] + 22.64 W[9,20] = 28.3\n",
       " hospitalizations[10,1] : Y[10,1] + 131.36 W[10,1] = 164.20000000000002                 hospitalizations[10,20] : Y[10,20] + 474.4 W[10,20] = 593\n",
       " hospitalizations[11,1] : Y[11,1] + 2186.0800000000004 W[11,1] = 2732.6000000000004  …  hospitalizations[11,20] : Y[11,20] + 37.2 W[11,20] = 46.5\n",
       " hospitalizations[12,1] : Y[12,1] + 160.8 W[12,1] = 201                                 hospitalizations[12,20] : Y[12,20] + 311.92 W[12,20] = 389.90000000000003\n",
       " hospitalizations[13,1] : Y[13,1] + 497.84000000000003 W[13,1] = 622.3000000000001      hospitalizations[13,20] : Y[13,20] + 20.96 W[13,20] = 26.200000000000003\n",
       " ⋮                                                                                   ⋱  \n",
       " hospitalizations[39,1] : Y[39,1] + 80.64000000000001 W[39,1] = 100.80000000000001      hospitalizations[39,20] : Y[39,20] + 132.96 W[39,20] = 166.20000000000002\n",
       " hospitalizations[40,1] : Y[40,1] + 793.44 W[40,1] = 991.8000000000001                  hospitalizations[40,20] : Y[40,20] + 118.64000000000001 W[40,20] = 148.3\n",
       " hospitalizations[41,1] : Y[41,1] + 1609.44 W[41,1] = 2011.8000000000002             …  hospitalizations[41,20] : Y[41,20] + 220.32000000000005 W[41,20] = 275.40000000000003\n",
       " hospitalizations[42,1] : Y[42,1] + 1298 W[42,1] = 1622.5                               hospitalizations[42,20] : Y[42,20] + 4 W[42,20] = 5\n",
       " hospitalizations[43,1] : Y[43,1] + 347.2 W[43,1] = 434                                 hospitalizations[43,20] : Y[43,20] + 442.96000000000004 W[43,20] = 553.7\n",
       " hospitalizations[44,1] : Y[44,1] + 1843.1200000000001 W[44,1] = 2303.9                 hospitalizations[44,20] : Y[44,20] + 305.44 W[44,20] = 381.8\n",
       " hospitalizations[45,1] : Y[45,1] + 137.04000000000002 W[45,1] = 171.3                  hospitalizations[45,20] : Y[45,20] + 52.96 W[45,20] = 66.2\n",
       " hospitalizations[46,1] : Y[46,1] + 524.4 W[46,1] = 655.5                            …  hospitalizations[46,20] : Y[46,20] + 1069.2800000000002 W[46,20] = 1336.6000000000001\n",
       " hospitalizations[47,1] : Y[47,1] + 53.839999999999996 W[47,1] = 67.3                   hospitalizations[47,20] : Y[47,20] + 158.56 W[47,20] = 198.20000000000002\n",
       " hospitalizations[48,1] : Y[48,1] + 1425.3600000000001 W[48,1] = 1781.7                 hospitalizations[48,20] : Y[48,20] + 110.4 W[48,20] = 138\n",
       " hospitalizations[49,1] : Y[49,1] + 2.72 W[49,1] = 3.4000000000000004                   hospitalizations[49,20] : Y[49,20] + 0.56 W[49,20] = 0.7000000000000001\n",
       " hospitalizations[50,1] : Y[50,1] = 0                                                   hospitalizations[50,20] : Y[50,20] + 866.72 W[50,20] = 1083.4"
      ]
     },
     "execution_count": 166,
     "metadata": {},
     "output_type": "execute_result"
    }
   ],
   "source": [
    "@constraint(model, hospitalizations[i in n_states,j in n_weeks], Y[i,j] == alpha * C[i,j] * (1 - W[i,j]) + beta * C[i,j] * W[i,j]) "
   ]
  },
  {
   "cell_type": "code",
   "execution_count": 167,
   "metadata": {},
   "outputs": [
    {
     "data": {
      "text/plain": [
       "2-dimensional DenseAxisArray{ConstraintRef{Model, MathOptInterface.ConstraintIndex{MathOptInterface.ScalarAffineFunction{Float64}, MathOptInterface.EqualTo{Float64}}, ScalarShape},2,...} with index sets:\n",
       "    Dimension 1, 1:50\n",
       "    Dimension 2, 1:19\n",
       "And data, a 50×19 Matrix{ConstraintRef{Model, MathOptInterface.ConstraintIndex{MathOptInterface.ScalarAffineFunction{Float64}, MathOptInterface.EqualTo{Float64}}, ScalarShape}}:\n",
       " vaccinated[1,1] : -1.8522943443896782e-6 X[1,1] - W[1,1] + W[1,2] = 0      …  vaccinated[1,19] : -1.8522943443896782e-6 X[1,19] - W[1,19] + W[1,20] = 0\n",
       " vaccinated[2,1] : -7.3507251490359526e-6 X[2,1] - W[2,1] + W[2,2] = 0         vaccinated[2,19] : -7.3507251490359526e-6 X[2,19] - W[2,19] + W[2,20] = 0\n",
       " vaccinated[3,1] : -1.2555920932854701e-6 X[3,1] - W[3,1] + W[3,2] = 0         vaccinated[3,19] : -1.2555920932854701e-6 X[3,19] - W[3,19] + W[3,20] = 0\n",
       " vaccinated[4,1] : -3.0014887384142533e-6 X[4,1] - W[4,1] + W[4,2] = 0         vaccinated[4,19] : -3.0014887384142533e-6 X[4,19] - W[4,19] + W[4,20] = 0\n",
       " vaccinated[5,1] : -6.182762458266353e-6 X[5,1] - W[5,1] + W[5,2] = 0          vaccinated[5,19] : -6.182762458266353e-6 X[5,19] - W[5,19] + W[5,20] = 0\n",
       " vaccinated[6,1] : -2.000300045006751e-6 X[6,1] - W[6,1] + W[6,2] = 0       …  vaccinated[6,19] : -2.000300045006751e-6 X[6,19] - W[6,19] + W[6,20] = 0\n",
       " vaccinated[7,1] : -1.7178145962706246e-6 X[7,1] - W[7,1] + W[7,2] = 0         vaccinated[7,19] : -1.7178145962706246e-6 X[7,19] - W[7,19] + W[7,20] = 0\n",
       " vaccinated[8,1] : -2.1856538055511234e-6 X[8,1] - W[8,1] + W[8,2] = 0         vaccinated[8,19] : -2.1856538055511234e-6 X[8,19] - W[8,19] + W[8,20] = 0\n",
       " vaccinated[9,1] : -3.1787506874048363e-6 X[9,1] - W[9,1] + W[9,2] = 0         vaccinated[9,19] : -3.1787506874048363e-6 X[9,19] - W[9,19] + W[9,20] = 0\n",
       " vaccinated[10,1] : -1.4379716547027425e-6 X[10,1] - W[10,1] + W[10,2] = 0     vaccinated[10,19] : -1.4379716547027425e-6 X[10,19] - W[10,19] + W[10,20] = 0\n",
       " vaccinated[11,1] : -1.5264635350758424e-6 X[11,1] - W[11,1] + W[11,2] = 0  …  vaccinated[11,19] : -1.5264635350758424e-6 X[11,19] - W[11,19] + W[11,20] = 0\n",
       " vaccinated[12,1] : -1.2550106299400356e-6 X[12,1] - W[12,1] + W[12,2] = 0     vaccinated[12,19] : -1.2550106299400356e-6 X[12,19] - W[12,19] + W[12,20] = 0\n",
       " vaccinated[13,1] : -3.9982247881940415e-6 X[13,1] - W[13,1] + W[13,2] = 0     vaccinated[13,19] : -3.9982247881940415e-6 X[13,19] - W[13,19] + W[13,20] = 0\n",
       " ⋮                                                                          ⋱  \n",
       " vaccinated[39,1] : -1.423854402344234e-6 X[39,1] - W[39,1] + W[39,2] = 0      vaccinated[39,19] : -1.423854402344234e-6 X[39,19] - W[39,19] + W[39,20] = 0\n",
       " vaccinated[40,1] : -2.4646568211842185e-6 X[40,1] - W[40,1] + W[40,2] = 0     vaccinated[40,19] : -2.4646568211842185e-6 X[40,19] - W[40,19] + W[40,20] = 0\n",
       " vaccinated[41,1] : -1.4468325219014273e-6 X[41,1] - W[41,1] + W[41,2] = 0  …  vaccinated[41,19] : -1.4468325219014273e-6 X[41,19] - W[41,19] + W[41,20] = 0\n",
       " vaccinated[42,1] : -2.678014305952422e-6 X[42,1] - W[42,1] + W[42,2] = 0      vaccinated[42,19] : -2.678014305952422e-6 X[42,19] - W[42,19] + W[42,20] = 0\n",
       " vaccinated[43,1] : -1.178889391881696e-6 X[43,1] - W[43,1] + W[43,2] = 0      vaccinated[43,19] : -1.178889391881696e-6 X[43,19] - W[43,19] + W[43,20] = 0\n",
       " vaccinated[44,1] : -1.1653965786287244e-6 X[44,1] - W[44,1] + W[44,2] = 0     vaccinated[44,19] : -1.1653965786287244e-6 X[44,19] - W[44,19] + W[44,20] = 0\n",
       " vaccinated[45,1] : -7.852991989948171e-6 X[45,1] - W[45,1] + W[45,2] = 0      vaccinated[45,19] : -7.852991989948171e-6 X[45,19] - W[45,19] + W[45,20] = 0\n",
       " vaccinated[46,1] : -1.614546417402227e-6 X[46,1] - W[46,1] + W[46,2] = 0   …  vaccinated[46,19] : -1.614546417402227e-6 X[46,19] - W[46,19] + W[46,20] = 0\n",
       " vaccinated[47,1] : -5.88650812338121e-6 X[47,1] - W[47,1] + W[47,2] = 0       vaccinated[47,19] : -5.88650812338121e-6 X[47,19] - W[47,19] + W[47,20] = 0\n",
       " vaccinated[48,1] : -1.3656985684747605e-6 X[48,1] - W[48,1] + W[48,2] = 0     vaccinated[48,19] : -1.3656985684747605e-6 X[48,19] - W[48,19] + W[48,20] = 0\n",
       " vaccinated[49,1] : -1.0209874173510685e-6 X[49,1] - W[49,1] + W[49,2] = 0     vaccinated[49,19] : -1.0209874173510685e-6 X[49,19] - W[49,19] + W[49,20] = 0\n",
       " vaccinated[50,1] : -4.280766942205365e-6 X[50,1] - W[50,1] + W[50,2] = 0      vaccinated[50,19] : -4.280766942205365e-6 X[50,19] - W[50,19] + W[50,20] = 0"
      ]
     },
     "execution_count": 167,
     "metadata": {},
     "output_type": "execute_result"
    }
   ],
   "source": [
    "@constraint(model, vaccinated[i in n_states,j in n_weeks_2], W[i,j+1] == W[i,j] + X[i,j]/ P[i] ) "
   ]
  },
  {
   "cell_type": "code",
   "execution_count": 168,
   "metadata": {},
   "outputs": [
    {
     "data": {
      "text/plain": [
       "1-dimensional DenseAxisArray{ConstraintRef{Model, MathOptInterface.ConstraintIndex{MathOptInterface.ScalarAffineFunction{Float64}, MathOptInterface.EqualTo{Float64}}, ScalarShape},1,...} with index sets:\n",
       "    Dimension 1, 1:50\n",
       "And data, a 50-element Vector{ConstraintRef{Model, MathOptInterface.ConstraintIndex{MathOptInterface.ScalarAffineFunction{Float64}, MathOptInterface.EqualTo{Float64}}, ScalarShape}}:\n",
       " initial[1] : W[1,1] = 0\n",
       " initial[2] : W[2,1] = 0\n",
       " initial[3] : W[3,1] = 0\n",
       " initial[4] : W[4,1] = 0\n",
       " initial[5] : W[5,1] = 0\n",
       " initial[6] : W[6,1] = 0\n",
       " initial[7] : W[7,1] = 0\n",
       " initial[8] : W[8,1] = 0\n",
       " initial[9] : W[9,1] = 0\n",
       " initial[10] : W[10,1] = 0\n",
       " initial[11] : W[11,1] = 0\n",
       " initial[12] : W[12,1] = 0\n",
       " initial[13] : W[13,1] = 0\n",
       " ⋮\n",
       " initial[39] : W[39,1] = 0\n",
       " initial[40] : W[40,1] = 0\n",
       " initial[41] : W[41,1] = 0\n",
       " initial[42] : W[42,1] = 0\n",
       " initial[43] : W[43,1] = 0\n",
       " initial[44] : W[44,1] = 0\n",
       " initial[45] : W[45,1] = 0\n",
       " initial[46] : W[46,1] = 0\n",
       " initial[47] : W[47,1] = 0\n",
       " initial[48] : W[48,1] = 0\n",
       " initial[49] : W[49,1] = 0\n",
       " initial[50] : W[50,1] = 0"
      ]
     },
     "execution_count": 168,
     "metadata": {},
     "output_type": "execute_result"
    }
   ],
   "source": [
    "# Initial values of W are  0 \n",
    "@constraint(model, initial[i in n_states], W[i,1] == 0) "
   ]
  },
  {
   "cell_type": "code",
   "execution_count": 169,
   "metadata": {},
   "outputs": [
    {
     "data": {
      "text/plain": [
       "2-dimensional DenseAxisArray{ConstraintRef{Model, MathOptInterface.ConstraintIndex{MathOptInterface.ScalarAffineFunction{Float64}, MathOptInterface.LessThan{Float64}}, ScalarShape},2,...} with index sets:\n",
       "    Dimension 1, 1:50\n",
       "    Dimension 2, 1:20\n",
       "And data, a 50×20 Matrix{ConstraintRef{Model, MathOptInterface.ConstraintIndex{MathOptInterface.ScalarAffineFunction{Float64}, MathOptInterface.LessThan{Float64}}, ScalarShape}}:\n",
       " bounds[1,1] : W[1,1] ≤ 1    …  bounds[1,20] : W[1,20] ≤ 1\n",
       " bounds[2,1] : W[2,1] ≤ 1       bounds[2,20] : W[2,20] ≤ 1\n",
       " bounds[3,1] : W[3,1] ≤ 1       bounds[3,20] : W[3,20] ≤ 1\n",
       " bounds[4,1] : W[4,1] ≤ 1       bounds[4,20] : W[4,20] ≤ 1\n",
       " bounds[5,1] : W[5,1] ≤ 1       bounds[5,20] : W[5,20] ≤ 1\n",
       " bounds[6,1] : W[6,1] ≤ 1    …  bounds[6,20] : W[6,20] ≤ 1\n",
       " bounds[7,1] : W[7,1] ≤ 1       bounds[7,20] : W[7,20] ≤ 1\n",
       " bounds[8,1] : W[8,1] ≤ 1       bounds[8,20] : W[8,20] ≤ 1\n",
       " bounds[9,1] : W[9,1] ≤ 1       bounds[9,20] : W[9,20] ≤ 1\n",
       " bounds[10,1] : W[10,1] ≤ 1     bounds[10,20] : W[10,20] ≤ 1\n",
       " bounds[11,1] : W[11,1] ≤ 1  …  bounds[11,20] : W[11,20] ≤ 1\n",
       " bounds[12,1] : W[12,1] ≤ 1     bounds[12,20] : W[12,20] ≤ 1\n",
       " bounds[13,1] : W[13,1] ≤ 1     bounds[13,20] : W[13,20] ≤ 1\n",
       " ⋮                           ⋱  \n",
       " bounds[39,1] : W[39,1] ≤ 1     bounds[39,20] : W[39,20] ≤ 1\n",
       " bounds[40,1] : W[40,1] ≤ 1     bounds[40,20] : W[40,20] ≤ 1\n",
       " bounds[41,1] : W[41,1] ≤ 1  …  bounds[41,20] : W[41,20] ≤ 1\n",
       " bounds[42,1] : W[42,1] ≤ 1     bounds[42,20] : W[42,20] ≤ 1\n",
       " bounds[43,1] : W[43,1] ≤ 1     bounds[43,20] : W[43,20] ≤ 1\n",
       " bounds[44,1] : W[44,1] ≤ 1     bounds[44,20] : W[44,20] ≤ 1\n",
       " bounds[45,1] : W[45,1] ≤ 1     bounds[45,20] : W[45,20] ≤ 1\n",
       " bounds[46,1] : W[46,1] ≤ 1  …  bounds[46,20] : W[46,20] ≤ 1\n",
       " bounds[47,1] : W[47,1] ≤ 1     bounds[47,20] : W[47,20] ≤ 1\n",
       " bounds[48,1] : W[48,1] ≤ 1     bounds[48,20] : W[48,20] ≤ 1\n",
       " bounds[49,1] : W[49,1] ≤ 1     bounds[49,20] : W[49,20] ≤ 1\n",
       " bounds[50,1] : W[50,1] ≤ 1     bounds[50,20] : W[50,20] ≤ 1"
      ]
     },
     "execution_count": 169,
     "metadata": {},
     "output_type": "execute_result"
    }
   ],
   "source": [
    "# W should be between 0 and 1\n",
    "@constraint(model, bounds[i in n_states,j in n_weeks], W[i,j] <= 1)"
   ]
  },
  {
   "cell_type": "code",
   "execution_count": 170,
   "metadata": {},
   "outputs": [
    {
     "data": {
      "text/plain": [
       "1-dimensional DenseAxisArray{ConstraintRef{Model, MathOptInterface.ConstraintIndex{MathOptInterface.ScalarAffineFunction{Float64}, MathOptInterface.LessThan{Float64}}, ScalarShape},1,...} with index sets:\n",
       "    Dimension 1, 1:20\n",
       "And data, a 20-element Vector{ConstraintRef{Model, MathOptInterface.ConstraintIndex{MathOptInterface.ScalarAffineFunction{Float64}, MathOptInterface.LessThan{Float64}}, ScalarShape}}:\n",
       " vaccine_supply[1] : X[1,1] + X[2,1] + X[3,1] + X[4,1] + X[5,1] + X[6,1] + X[7,1] + X[8,1] + X[9,1] + X[10,1] + X[11,1] + X[12,1] + X[13,1] + X[14,1] + X[15,1] + X[16,1] + X[17,1] + X[18,1] + X[19,1] + X[20,1] + X[21,1] + X[22,1] + X[23,1] + X[24,1] + X[25,1] + X[26,1] + X[27,1] + X[28,1] + X[29,1] + X[30,1] + X[31,1] + X[32,1] + X[33,1] + X[34,1] + X[35,1] + X[36,1] + X[37,1] + X[38,1] + X[39,1] + X[40,1] + X[41,1] + X[42,1] + X[43,1] + X[44,1] + X[45,1] + X[46,1] + X[47,1] + X[48,1] + X[49,1] + X[50,1] ≤ 268301\n",
       " vaccine_supply[2] : X[1,2] + X[2,2] + X[3,2] + X[4,2] + X[5,2] + X[6,2] + X[7,2] + X[8,2] + X[9,2] + X[10,2] + X[11,2] + X[12,2] + X[13,2] + X[14,2] + X[15,2] + X[16,2] + X[17,2] + X[18,2] + X[19,2] + X[20,2] + X[21,2] + X[22,2] + X[23,2] + X[24,2] + X[25,2] + X[26,2] + X[27,2] + X[28,2] + X[29,2] + X[30,2] + X[31,2] + X[32,2] + X[33,2] + X[34,2] + X[35,2] + X[36,2] + X[37,2] + X[38,2] + X[39,2] + X[40,2] + X[41,2] + X[42,2] + X[43,2] + X[44,2] + X[45,2] + X[46,2] + X[47,2] + X[48,2] + X[49,2] + X[50,2] ≤ 281716\n",
       " vaccine_supply[3] : X[1,3] + X[2,3] + X[3,3] + X[4,3] + X[5,3] + X[6,3] + X[7,3] + X[8,3] + X[9,3] + X[10,3] + X[11,3] + X[12,3] + X[13,3] + X[14,3] + X[15,3] + X[16,3] + X[17,3] + X[18,3] + X[19,3] + X[20,3] + X[21,3] + X[22,3] + X[23,3] + X[24,3] + X[25,3] + X[26,3] + X[27,3] + X[28,3] + X[29,3] + X[30,3] + X[31,3] + X[32,3] + X[33,3] + X[34,3] + X[35,3] + X[36,3] + X[37,3] + X[38,3] + X[39,3] + X[40,3] + X[41,3] + X[42,3] + X[43,3] + X[44,3] + X[45,3] + X[46,3] + X[47,3] + X[48,3] + X[49,3] + X[50,3] ≤ 295801\n",
       " vaccine_supply[4] : X[1,4] + X[2,4] + X[3,4] + X[4,4] + X[5,4] + X[6,4] + X[7,4] + X[8,4] + X[9,4] + X[10,4] + X[11,4] + X[12,4] + X[13,4] + X[14,4] + X[15,4] + X[16,4] + X[17,4] + X[18,4] + X[19,4] + X[20,4] + X[21,4] + X[22,4] + X[23,4] + X[24,4] + X[25,4] + X[26,4] + X[27,4] + X[28,4] + X[29,4] + X[30,4] + X[31,4] + X[32,4] + X[33,4] + X[34,4] + X[35,4] + X[36,4] + X[37,4] + X[38,4] + X[39,4] + X[40,4] + X[41,4] + X[42,4] + X[43,4] + X[44,4] + X[45,4] + X[46,4] + X[47,4] + X[48,4] + X[49,4] + X[50,4] ≤ 310592\n",
       " vaccine_supply[5] : X[1,5] + X[2,5] + X[3,5] + X[4,5] + X[5,5] + X[6,5] + X[7,5] + X[8,5] + X[9,5] + X[10,5] + X[11,5] + X[12,5] + X[13,5] + X[14,5] + X[15,5] + X[16,5] + X[17,5] + X[18,5] + X[19,5] + X[20,5] + X[21,5] + X[22,5] + X[23,5] + X[24,5] + X[25,5] + X[26,5] + X[27,5] + X[28,5] + X[29,5] + X[30,5] + X[31,5] + X[32,5] + X[33,5] + X[34,5] + X[35,5] + X[36,5] + X[37,5] + X[38,5] + X[39,5] + X[40,5] + X[41,5] + X[42,5] + X[43,5] + X[44,5] + X[45,5] + X[46,5] + X[47,5] + X[48,5] + X[49,5] + X[50,5] ≤ 326121\n",
       " vaccine_supply[6] : X[1,6] + X[2,6] + X[3,6] + X[4,6] + X[5,6] + X[6,6] + X[7,6] + X[8,6] + X[9,6] + X[10,6] + X[11,6] + X[12,6] + X[13,6] + X[14,6] + X[15,6] + X[16,6] + X[17,6] + X[18,6] + X[19,6] + X[20,6] + X[21,6] + X[22,6] + X[23,6] + X[24,6] + X[25,6] + X[26,6] + X[27,6] + X[28,6] + X[29,6] + X[30,6] + X[31,6] + X[32,6] + X[33,6] + X[34,6] + X[35,6] + X[36,6] + X[37,6] + X[38,6] + X[39,6] + X[40,6] + X[41,6] + X[42,6] + X[43,6] + X[44,6] + X[45,6] + X[46,6] + X[47,6] + X[48,6] + X[49,6] + X[50,6] ≤ 342427\n",
       " vaccine_supply[7] : X[1,7] + X[2,7] + X[3,7] + X[4,7] + X[5,7] + X[6,7] + X[7,7] + X[8,7] + X[9,7] + X[10,7] + X[11,7] + X[12,7] + X[13,7] + X[14,7] + X[15,7] + X[16,7] + X[17,7] + X[18,7] + X[19,7] + X[20,7] + X[21,7] + X[22,7] + X[23,7] + X[24,7] + X[25,7] + X[26,7] + X[27,7] + X[28,7] + X[29,7] + X[30,7] + X[31,7] + X[32,7] + X[33,7] + X[34,7] + X[35,7] + X[36,7] + X[37,7] + X[38,7] + X[39,7] + X[40,7] + X[41,7] + X[42,7] + X[43,7] + X[44,7] + X[45,7] + X[46,7] + X[47,7] + X[48,7] + X[49,7] + X[50,7] ≤ 359549\n",
       " vaccine_supply[8] : X[1,8] + X[2,8] + X[3,8] + X[4,8] + X[5,8] + X[6,8] + X[7,8] + X[8,8] + X[9,8] + X[10,8] + X[11,8] + X[12,8] + X[13,8] + X[14,8] + X[15,8] + X[16,8] + X[17,8] + X[18,8] + X[19,8] + X[20,8] + X[21,8] + X[22,8] + X[23,8] + X[24,8] + X[25,8] + X[26,8] + X[27,8] + X[28,8] + X[29,8] + X[30,8] + X[31,8] + X[32,8] + X[33,8] + X[34,8] + X[35,8] + X[36,8] + X[37,8] + X[38,8] + X[39,8] + X[40,8] + X[41,8] + X[42,8] + X[43,8] + X[44,8] + X[45,8] + X[46,8] + X[47,8] + X[48,8] + X[49,8] + X[50,8] ≤ 377526\n",
       " vaccine_supply[9] : X[1,9] + X[2,9] + X[3,9] + X[4,9] + X[5,9] + X[6,9] + X[7,9] + X[8,9] + X[9,9] + X[10,9] + X[11,9] + X[12,9] + X[13,9] + X[14,9] + X[15,9] + X[16,9] + X[17,9] + X[18,9] + X[19,9] + X[20,9] + X[21,9] + X[22,9] + X[23,9] + X[24,9] + X[25,9] + X[26,9] + X[27,9] + X[28,9] + X[29,9] + X[30,9] + X[31,9] + X[32,9] + X[33,9] + X[34,9] + X[35,9] + X[36,9] + X[37,9] + X[38,9] + X[39,9] + X[40,9] + X[41,9] + X[42,9] + X[43,9] + X[44,9] + X[45,9] + X[46,9] + X[47,9] + X[48,9] + X[49,9] + X[50,9] ≤ 396402\n",
       " vaccine_supply[10] : X[1,10] + X[2,10] + X[3,10] + X[4,10] + X[5,10] + X[6,10] + X[7,10] + X[8,10] + X[9,10] + X[10,10] + X[11,10] + X[12,10] + X[13,10] + X[14,10] + X[15,10] + X[16,10] + X[17,10] + X[18,10] + X[19,10] + X[20,10] + X[21,10] + X[22,10] + X[23,10] + X[24,10] + X[25,10] + X[26,10] + X[27,10] + X[28,10] + X[29,10] + X[30,10] + X[31,10] + X[32,10] + X[33,10] + X[34,10] + X[35,10] + X[36,10] + X[37,10] + X[38,10] + X[39,10] + X[40,10] + X[41,10] + X[42,10] + X[43,10] + X[44,10] + X[45,10] + X[46,10] + X[47,10] + X[48,10] + X[49,10] + X[50,10] ≤ 416223\n",
       " vaccine_supply[11] : X[1,11] + X[2,11] + X[3,11] + X[4,11] + X[5,11] + X[6,11] + X[7,11] + X[8,11] + X[9,11] + X[10,11] + X[11,11] + X[12,11] + X[13,11] + X[14,11] + X[15,11] + X[16,11] + X[17,11] + X[18,11] + X[19,11] + X[20,11] + X[21,11] + X[22,11] + X[23,11] + X[24,11] + X[25,11] + X[26,11] + X[27,11] + X[28,11] + X[29,11] + X[30,11] + X[31,11] + X[32,11] + X[33,11] + X[34,11] + X[35,11] + X[36,11] + X[37,11] + X[38,11] + X[39,11] + X[40,11] + X[41,11] + X[42,11] + X[43,11] + X[44,11] + X[45,11] + X[46,11] + X[47,11] + X[48,11] + X[49,11] + X[50,11] ≤ 437034\n",
       " vaccine_supply[12] : X[1,12] + X[2,12] + X[3,12] + X[4,12] + X[5,12] + X[6,12] + X[7,12] + X[8,12] + X[9,12] + X[10,12] + X[11,12] + X[12,12] + X[13,12] + X[14,12] + X[15,12] + X[16,12] + X[17,12] + X[18,12] + X[19,12] + X[20,12] + X[21,12] + X[22,12] + X[23,12] + X[24,12] + X[25,12] + X[26,12] + X[27,12] + X[28,12] + X[29,12] + X[30,12] + X[31,12] + X[32,12] + X[33,12] + X[34,12] + X[35,12] + X[36,12] + X[37,12] + X[38,12] + X[39,12] + X[40,12] + X[41,12] + X[42,12] + X[43,12] + X[44,12] + X[45,12] + X[46,12] + X[47,12] + X[48,12] + X[49,12] + X[50,12] ≤ 458885\n",
       " vaccine_supply[13] : X[1,13] + X[2,13] + X[3,13] + X[4,13] + X[5,13] + X[6,13] + X[7,13] + X[8,13] + X[9,13] + X[10,13] + X[11,13] + X[12,13] + X[13,13] + X[14,13] + X[15,13] + X[16,13] + X[17,13] + X[18,13] + X[19,13] + X[20,13] + X[21,13] + X[22,13] + X[23,13] + X[24,13] + X[25,13] + X[26,13] + X[27,13] + X[28,13] + X[29,13] + X[30,13] + X[31,13] + X[32,13] + X[33,13] + X[34,13] + X[35,13] + X[36,13] + X[37,13] + X[38,13] + X[39,13] + X[40,13] + X[41,13] + X[42,13] + X[43,13] + X[44,13] + X[45,13] + X[46,13] + X[47,13] + X[48,13] + X[49,13] + X[50,13] ≤ 481830\n",
       " vaccine_supply[14] : X[1,14] + X[2,14] + X[3,14] + X[4,14] + X[5,14] + X[6,14] + X[7,14] + X[8,14] + X[9,14] + X[10,14] + X[11,14] + X[12,14] + X[13,14] + X[14,14] + X[15,14] + X[16,14] + X[17,14] + X[18,14] + X[19,14] + X[20,14] + X[21,14] + X[22,14] + X[23,14] + X[24,14] + X[25,14] + X[26,14] + X[27,14] + X[28,14] + X[29,14] + X[30,14] + X[31,14] + X[32,14] + X[33,14] + X[34,14] + X[35,14] + X[36,14] + X[37,14] + X[38,14] + X[39,14] + X[40,14] + X[41,14] + X[42,14] + X[43,14] + X[44,14] + X[45,14] + X[46,14] + X[47,14] + X[48,14] + X[49,14] + X[50,14] ≤ 505921\n",
       " vaccine_supply[15] : X[1,15] + X[2,15] + X[3,15] + X[4,15] + X[5,15] + X[6,15] + X[7,15] + X[8,15] + X[9,15] + X[10,15] + X[11,15] + X[12,15] + X[13,15] + X[14,15] + X[15,15] + X[16,15] + X[17,15] + X[18,15] + X[19,15] + X[20,15] + X[21,15] + X[22,15] + X[23,15] + X[24,15] + X[25,15] + X[26,15] + X[27,15] + X[28,15] + X[29,15] + X[30,15] + X[31,15] + X[32,15] + X[33,15] + X[34,15] + X[35,15] + X[36,15] + X[37,15] + X[38,15] + X[39,15] + X[40,15] + X[41,15] + X[42,15] + X[43,15] + X[44,15] + X[45,15] + X[46,15] + X[47,15] + X[48,15] + X[49,15] + X[50,15] ≤ 531217\n",
       " vaccine_supply[16] : X[1,16] + X[2,16] + X[3,16] + X[4,16] + X[5,16] + X[6,16] + X[7,16] + X[8,16] + X[9,16] + X[10,16] + X[11,16] + X[12,16] + X[13,16] + X[14,16] + X[15,16] + X[16,16] + X[17,16] + X[18,16] + X[19,16] + X[20,16] + X[21,16] + X[22,16] + X[23,16] + X[24,16] + X[25,16] + X[26,16] + X[27,16] + X[28,16] + X[29,16] + X[30,16] + X[31,16] + X[32,16] + X[33,16] + X[34,16] + X[35,16] + X[36,16] + X[37,16] + X[38,16] + X[39,16] + X[40,16] + X[41,16] + X[42,16] + X[43,16] + X[44,16] + X[45,16] + X[46,16] + X[47,16] + X[48,16] + X[49,16] + X[50,16] ≤ 557778\n",
       " vaccine_supply[17] : X[1,17] + X[2,17] + X[3,17] + X[4,17] + X[5,17] + X[6,17] + X[7,17] + X[8,17] + X[9,17] + X[10,17] + X[11,17] + X[12,17] + X[13,17] + X[14,17] + X[15,17] + X[16,17] + X[17,17] + X[18,17] + X[19,17] + X[20,17] + X[21,17] + X[22,17] + X[23,17] + X[24,17] + X[25,17] + X[26,17] + X[27,17] + X[28,17] + X[29,17] + X[30,17] + X[31,17] + X[32,17] + X[33,17] + X[34,17] + X[35,17] + X[36,17] + X[37,17] + X[38,17] + X[39,17] + X[40,17] + X[41,17] + X[42,17] + X[43,17] + X[44,17] + X[45,17] + X[46,17] + X[47,17] + X[48,17] + X[49,17] + X[50,17] ≤ 585667\n",
       " vaccine_supply[18] : X[1,18] + X[2,18] + X[3,18] + X[4,18] + X[5,18] + X[6,18] + X[7,18] + X[8,18] + X[9,18] + X[10,18] + X[11,18] + X[12,18] + X[13,18] + X[14,18] + X[15,18] + X[16,18] + X[17,18] + X[18,18] + X[19,18] + X[20,18] + X[21,18] + X[22,18] + X[23,18] + X[24,18] + X[25,18] + X[26,18] + X[27,18] + X[28,18] + X[29,18] + X[30,18] + X[31,18] + X[32,18] + X[33,18] + X[34,18] + X[35,18] + X[36,18] + X[37,18] + X[38,18] + X[39,18] + X[40,18] + X[41,18] + X[42,18] + X[43,18] + X[44,18] + X[45,18] + X[46,18] + X[47,18] + X[48,18] + X[49,18] + X[50,18] ≤ 614950\n",
       " vaccine_supply[19] : X[1,19] + X[2,19] + X[3,19] + X[4,19] + X[5,19] + X[6,19] + X[7,19] + X[8,19] + X[9,19] + X[10,19] + X[11,19] + X[12,19] + X[13,19] + X[14,19] + X[15,19] + X[16,19] + X[17,19] + X[18,19] + X[19,19] + X[20,19] + X[21,19] + X[22,19] + X[23,19] + X[24,19] + X[25,19] + X[26,19] + X[27,19] + X[28,19] + X[29,19] + X[30,19] + X[31,19] + X[32,19] + X[33,19] + X[34,19] + X[35,19] + X[36,19] + X[37,19] + X[38,19] + X[39,19] + X[40,19] + X[41,19] + X[42,19] + X[43,19] + X[44,19] + X[45,19] + X[46,19] + X[47,19] + X[48,19] + X[49,19] + X[50,19] ≤ 645698\n",
       " vaccine_supply[20] : X[1,20] + X[2,20] + X[3,20] + X[4,20] + X[5,20] + X[6,20] + X[7,20] + X[8,20] + X[9,20] + X[10,20] + X[11,20] + X[12,20] + X[13,20] + X[14,20] + X[15,20] + X[16,20] + X[17,20] + X[18,20] + X[19,20] + X[20,20] + X[21,20] + X[22,20] + X[23,20] + X[24,20] + X[25,20] + X[26,20] + X[27,20] + X[28,20] + X[29,20] + X[30,20] + X[31,20] + X[32,20] + X[33,20] + X[34,20] + X[35,20] + X[36,20] + X[37,20] + X[38,20] + X[39,20] + X[40,20] + X[41,20] + X[42,20] + X[43,20] + X[44,20] + X[45,20] + X[46,20] + X[47,20] + X[48,20] + X[49,20] + X[50,20] ≤ 677983"
      ]
     },
     "execution_count": 170,
     "metadata": {},
     "output_type": "execute_result"
    }
   ],
   "source": [
    "@constraint(model,vaccine_supply[j in n_weeks], sum(X[i,j] for i in n_states) <= V[j]) "
   ]
  },
  {
   "cell_type": "code",
   "execution_count": 171,
   "metadata": {},
   "outputs": [
    {
     "data": {
      "text/plain": [
       "2-dimensional DenseAxisArray{ConstraintRef{Model, MathOptInterface.ConstraintIndex{MathOptInterface.ScalarAffineFunction{Float64}, MathOptInterface.LessThan{Float64}}, ScalarShape},2,...} with index sets:\n",
       "    Dimension 1, 1:50\n",
       "    Dimension 2, 1:20\n",
       "And data, a 50×20 Matrix{ConstraintRef{Model, MathOptInterface.ConstraintIndex{MathOptInterface.ScalarAffineFunction{Float64}, MathOptInterface.LessThan{Float64}}, ScalarShape}}:\n",
       " state_vaccination_capacity[1,1] : X[1,1] ≤ 53987.100000000006    …  state_vaccination_capacity[1,20] : X[1,20] ≤ 53987.100000000006\n",
       " state_vaccination_capacity[2,1] : X[2,1] ≤ 13604.1                  state_vaccination_capacity[2,20] : X[2,20] ≤ 13604.1\n",
       " state_vaccination_capacity[3,1] : X[3,1] ≤ 79643.70000000001        state_vaccination_capacity[3,20] : X[3,20] ≤ 79643.70000000001\n",
       " state_vaccination_capacity[4,1] : X[4,1] ≤ 33316.8                  state_vaccination_capacity[4,20] : X[4,20] ≤ 33316.8\n",
       " state_vaccination_capacity[5,1] : X[5,1] ≤ 16174                    state_vaccination_capacity[5,20] : X[5,20] ≤ 16174\n",
       " state_vaccination_capacity[6,1] : X[6,1] ≤ 49992.5               …  state_vaccination_capacity[6,20] : X[6,20] ≤ 49992.5\n",
       " state_vaccination_capacity[7,1] : X[7,1] ≤ 58213.5                  state_vaccination_capacity[7,20] : X[7,20] ≤ 58213.5\n",
       " state_vaccination_capacity[8,1] : X[8,1] ≤ 45752.9                  state_vaccination_capacity[8,20] : X[8,20] ≤ 45752.9\n",
       " state_vaccination_capacity[9,1] : X[9,1] ≤ 31458.9                  state_vaccination_capacity[9,20] : X[9,20] ≤ 31458.9\n",
       " state_vaccination_capacity[10,1] : X[10,1] ≤ 69542.40000000001      state_vaccination_capacity[10,20] : X[10,20] ≤ 69542.40000000001\n",
       " state_vaccination_capacity[11,1] : X[11,1] ≤ 65510.9             …  state_vaccination_capacity[11,20] : X[11,20] ≤ 65510.9\n",
       " state_vaccination_capacity[12,1] : X[12,1] ≤ 79680.6                state_vaccination_capacity[12,20] : X[12,20] ≤ 79680.6\n",
       " state_vaccination_capacity[13,1] : X[13,1] ≤ 25011.100000000002     state_vaccination_capacity[13,20] : X[13,20] ≤ 25011.100000000002\n",
       " ⋮                                                                ⋱  \n",
       " state_vaccination_capacity[39,1] : X[39,1] ≤ 70231.90000000001      state_vaccination_capacity[39,20] : X[39,20] ≤ 70231.90000000001\n",
       " state_vaccination_capacity[40,1] : X[40,1] ≤ 40573.600000000006     state_vaccination_capacity[40,20] : X[40,20] ≤ 40573.600000000006\n",
       " state_vaccination_capacity[41,1] : X[41,1] ≤ 69116.5             …  state_vaccination_capacity[41,20] : X[41,20] ≤ 69116.5\n",
       " state_vaccination_capacity[42,1] : X[42,1] ≤ 37341.1                state_vaccination_capacity[42,20] : X[42,20] ≤ 37341.1\n",
       " state_vaccination_capacity[43,1] : X[43,1] ≤ 84825.6                state_vaccination_capacity[43,20] : X[43,20] ≤ 84825.6\n",
       " state_vaccination_capacity[44,1] : X[44,1] ≤ 85807.70000000001      state_vaccination_capacity[44,20] : X[44,20] ≤ 85807.70000000001\n",
       " state_vaccination_capacity[45,1] : X[45,1] ≤ 12734                  state_vaccination_capacity[45,20] : X[45,20] ≤ 12734\n",
       " state_vaccination_capacity[46,1] : X[46,1] ≤ 61936.9             …  state_vaccination_capacity[46,20] : X[46,20] ≤ 61936.9\n",
       " state_vaccination_capacity[47,1] : X[47,1] ≤ 16988                  state_vaccination_capacity[47,20] : X[47,20] ≤ 16988\n",
       " state_vaccination_capacity[48,1] : X[48,1] ≤ 73222.6                state_vaccination_capacity[48,20] : X[48,20] ≤ 73222.6\n",
       " state_vaccination_capacity[49,1] : X[49,1] ≤ 97944.40000000001      state_vaccination_capacity[49,20] : X[49,20] ≤ 97944.40000000001\n",
       " state_vaccination_capacity[50,1] : X[50,1] ≤ 23360.300000000003     state_vaccination_capacity[50,20] : X[50,20] ≤ 23360.300000000003"
      ]
     },
     "execution_count": 171,
     "metadata": {},
     "output_type": "execute_result"
    }
   ],
   "source": [
    "@constraint(model,state_vaccination_capacity[i in n_states, j in n_weeks], X[i,j] <= gamma * P[i])  "
   ]
  },
  {
   "cell_type": "code",
   "execution_count": 172,
   "metadata": {},
   "outputs": [
    {
     "name": "stdout",
     "output_type": "stream",
     "text": [
      "Gurobi Optimizer version 10.0.2 build v10.0.2rc0 (mac64[x86])\n",
      "\n",
      "CPU model: Intel(R) Core(TM) i7-1060NG7 CPU @ 1.20GHz\n",
      "Thread count: 4 physical cores, 8 logical processors, using up to 8 threads\n",
      "\n",
      "Optimize a model with 4020 rows, 3000 columns and 7862 nonzeros\n",
      "Model fingerprint: 0xddaec6d5\n",
      "Coefficient statistics:\n",
      "  Matrix range     [1e-06, 3e+03]\n",
      "  Objective range  [1e+00, 1e+00]\n",
      "  Bounds range     [0e+00, 0e+00]\n",
      "  RHS range        [1e-01, 7e+05]\n",
      "Presolve removed 3951 rows and 2017 columns\n",
      "Presolve time: 0.00s\n",
      "Presolved: 69 rows, 983 columns, 1916 nonzeros\n",
      "\n",
      "Iteration    Objective       Primal Inf.    Dual Inf.      Time\n",
      "       0    4.5128571e+05   5.914745e+06   0.000000e+00      0s\n",
      "     218    6.5744701e+05   0.000000e+00   0.000000e+00      0s\n",
      "\n",
      "Solved in 218 iterations and 0.01 seconds (0.00 work units)\n",
      "Optimal objective  6.574470091e+05\n",
      "\n",
      "User-callback calls 297, time in user-callback 0.00 sec\n"
     ]
    }
   ],
   "source": [
    "optimize!(model)"
   ]
  },
  {
   "cell_type": "code",
   "execution_count": 173,
   "metadata": {},
   "outputs": [
    {
     "data": {
      "text/plain": [
       "657447.0091388986"
      ]
     },
     "execution_count": 173,
     "metadata": {},
     "output_type": "execute_result"
    }
   ],
   "source": [
    "objective_value(model)\n"
   ]
  },
  {
   "cell_type": "code",
   "execution_count": 174,
   "metadata": {},
   "outputs": [],
   "source": [
    "W = value.(W)\n",
    "X = value.(X)\n",
    "Y = value.(Y)\n",
    "\n",
    "X_soln = zeros(total_states, total_weeks)\n",
    "Y_soln = zeros(total_states, total_weeks)\n",
    "W_soln = zeros(total_states, total_weeks)\n",
    "# Compute distances between all pairs of points\n",
    "for i in 1:50\n",
    "    for j in 1:20\n",
    "        X_soln[i,j] = X[i,j]\n",
    "        Y_soln[i,j] = Y[i,j]\n",
    "        W_soln[i,j] = W[i,j]\n",
    "    end\n",
    "end\n",
    "\n",
    "# save the solutions as a jld file\n",
    "save(\"solution.jld\", \"X_soln\", X_soln, \"Y_soln\", Y_soln, \"W_soln\", W_soln)"
   ]
  }
 ],
 "metadata": {
  "kernelspec": {
   "display_name": "Julia 1.9.3",
   "language": "julia",
   "name": "julia-1.9"
  },
  "language_info": {
   "file_extension": ".jl",
   "mimetype": "application/julia",
   "name": "julia",
   "version": "1.9.3"
  }
 },
 "nbformat": 4,
 "nbformat_minor": 2
}
