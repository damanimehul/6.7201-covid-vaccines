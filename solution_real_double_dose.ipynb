{
 "cells": [
  {
   "cell_type": "code",
   "execution_count": 17,
   "metadata": {},
   "outputs": [],
   "source": [
    "using CSV, DataFrames, JuMP, Gurobi, Plots, HDF5, JLD"
   ]
  },
  {
   "cell_type": "code",
   "execution_count": 18,
   "metadata": {},
   "outputs": [],
   "source": [
    "# Some constants for the model\n",
    "alpha = 0.1 # Hospitalization rate for non-vaccinated\n",
    "beta = 0.02 ;# Hospitalization rate for vaccinated \n",
    "gamma = 0.1 # State can only vaccinate 10% of population per week\n",
    "file_name = \"solution_real\" ; # JLD file to save the solution variables in for later analysis "
   ]
  },
  {
   "cell_type": "code",
   "execution_count": 19,
   "metadata": {},
   "outputs": [
    {
     "name": "stdout",
     "output_type": "stream",
     "text": [
      "C: (50, 52)\n",
      "P: (50,)\n",
      "V: (52,)\n"
     ]
    }
   ],
   "source": [
    "data_folder = \"real_world_data\"\n",
    "# Load csv files\n",
    "case_file = data_folder * \"/\" * \"case_data.csv\"\n",
    "population_file = data_folder * \"/\" * \"population_data.csv\"\n",
    "vaccine_file = data_folder * \"/\" * \"vaccine_data.csv\"\n",
    "\n",
    "case_data = CSV.read(case_file, DataFrame)\n",
    "population_data = CSV.read(population_file, DataFrame)\n",
    "vaccine_data = CSV.read(vaccine_file, DataFrame)\n",
    "\n",
    "\n",
    "P = Matrix(population_data)\n",
    "C = Matrix(case_data)\n",
    "V = Matrix(vaccine_data)\n",
    "# convert population data to matrix\n",
    "\n",
    "C =C'\n",
    "V = V[:,1]\n",
    "P = P[1,:]\n",
    "\n",
    "println(\"C: \", size(C))\n",
    "println(\"P: \", size(P))\n",
    "println(\"V: \", size(V))"
   ]
  },
  {
   "cell_type": "code",
   "execution_count": null,
   "metadata": {},
   "outputs": [],
   "source": [
    "n_states = 1:size(case_data, 2)\n",
    "n_weeks = 1:size(case_data, 1) \n",
    "n_weeks_2 = 1:size(case_data, 1)-1 \n",
    "\n",
    "total_states = length(n_states) \n",
    "total_weeks = length(n_weeks) \n",
    "println(\"Number of states: \", n_states)\n",
    "println(\"Number of weeks: \", n_weeks)"
   ]
  },
  {
   "cell_type": "code",
   "execution_count": null,
   "metadata": {},
   "outputs": [],
   "source": [
    "model = Model(Gurobi.Optimizer)"
   ]
  },
  {
   "cell_type": "code",
   "execution_count": null,
   "metadata": {},
   "outputs": [],
   "source": [
    "@variable(model, X[n_states, n_weeks] >= 0);\n",
    "X"
   ]
  },
  {
   "cell_type": "code",
   "execution_count": null,
   "metadata": {},
   "outputs": [],
   "source": [
    "@variable(model, Y[n_states, n_weeks] >= 0);\n",
    "Y"
   ]
  },
  {
   "cell_type": "code",
   "execution_count": null,
   "metadata": {},
   "outputs": [],
   "source": [
    "@variable(model, W[n_states, n_weeks] >= 0);\n",
    "W"
   ]
  },
  {
   "cell_type": "code",
   "execution_count": null,
   "metadata": {},
   "outputs": [],
   "source": [
    "@objective(model, Min, sum(sum(Y[i,j] for i in n_states) for j in n_weeks)) ; "
   ]
  },
  {
   "cell_type": "code",
   "execution_count": null,
   "metadata": {},
   "outputs": [],
   "source": [
    "@constraint(model, hospitalizations[i in n_states,j in n_weeks], Y[i,j] == alpha * C[i,j] * (1 - W[i,j]) + beta * C[i,j] * W[i,j]) "
   ]
  },
  {
   "cell_type": "code",
   "execution_count": null,
   "metadata": {},
   "outputs": [],
   "source": [
    "@constraint(model, vaccinated[i in n_states,j in n_weeks_2], W[i,j+1] == W[i,j] + X[i,j]/ P[i] ) "
   ]
  },
  {
   "cell_type": "code",
   "execution_count": null,
   "metadata": {},
   "outputs": [],
   "source": [
    "# Initial values of W are  0 \n",
    "@constraint(model, initial[i in n_states], W[i,1] == 0) "
   ]
  },
  {
   "cell_type": "code",
   "execution_count": null,
   "metadata": {},
   "outputs": [],
   "source": [
    "# W should be between 0 and 1\n",
    "@constraint(model, bounds[i in n_states,j in n_weeks], W[i,j] <= 1)"
   ]
  },
  {
   "cell_type": "code",
   "execution_count": null,
   "metadata": {},
   "outputs": [],
   "source": [
    "@constraint(model,vaccine_supply[j in n_weeks], sum(X[i,j] for i in n_states) <= V[j]) "
   ]
  },
  {
   "cell_type": "code",
   "execution_count": null,
   "metadata": {},
   "outputs": [],
   "source": [
    "@constraint(model,state_vaccination_capacity[i in n_states, j in n_weeks], X[i,j] <= gamma * P[i])  "
   ]
  },
  {
   "cell_type": "code",
   "execution_count": null,
   "metadata": {},
   "outputs": [],
   "source": [
    "optimize!(model)"
   ]
  },
  {
   "cell_type": "code",
   "execution_count": null,
   "metadata": {},
   "outputs": [],
   "source": [
    "objective_value(model)\n"
   ]
  },
  {
   "cell_type": "code",
   "execution_count": null,
   "metadata": {},
   "outputs": [],
   "source": [
    "W = value.(W)\n",
    "X = value.(X)\n",
    "Y = value.(Y)\n",
    "\n",
    "X_soln = zeros(total_states, total_weeks)\n",
    "Y_soln = zeros(total_states, total_weeks)\n",
    "W_soln = zeros(total_states, total_weeks)\n",
    "# Compute distances between all pairs of points\n",
    "for i in n_states\n",
    "    for j in n_weeks\n",
    "        X_soln[i,j] = X[i,j]\n",
    "        Y_soln[i,j] = Y[i,j]\n",
    "        W_soln[i,j] = W[i,j]\n",
    "    end\n",
    "end\n",
    "\n",
    "# save the solutions as a jld file\n",
    "save(\"solution_real.jld\", \"X_soln\", X_soln, \"Y_soln\", Y_soln, \"W_soln\", W_soln)"
   ]
  },
  {
   "cell_type": "code",
   "execution_count": null,
   "metadata": {},
   "outputs": [],
   "source": [
    "print(Y)"
   ]
  }
 ],
 "metadata": {
  "kernelspec": {
   "display_name": "Julia 1.9.3",
   "language": "julia",
   "name": "julia-1.9"
  },
  "language_info": {
   "file_extension": ".jl",
   "mimetype": "application/julia",
   "name": "julia",
   "version": "1.9.3"
  }
 },
 "nbformat": 4,
 "nbformat_minor": 2
}
