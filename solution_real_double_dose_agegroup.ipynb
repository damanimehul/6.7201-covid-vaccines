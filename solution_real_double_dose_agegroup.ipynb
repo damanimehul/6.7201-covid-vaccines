{
 "cells": [
  {
   "cell_type": "code",
   "execution_count": null,
   "metadata": {},
   "outputs": [],
   "source": [
    "using CSV, DataFrames, JuMP, Gurobi, Plots, HDF5, JLD"
   ]
  },
  {
   "cell_type": "code",
   "execution_count": null,
   "metadata": {},
   "outputs": [],
   "source": [
    "# Some constants for the model\n",
    "\n",
    "# R: hospitalization rates.\n",
    "# 2x3 (age group x dose group)\n",
    "# first row for ppl below 65 and second row for ppl above 65\n",
    "# first to third column: 1, 2, and 0 doses of vaccine\n",
    "R = Matrix([0.02 0.01 0.1; 0.05 0.01 0.25]) \n",
    "gamma = 0.1 # State can only vaccinate 10% of population per week"
   ]
  },
  {
   "cell_type": "code",
   "execution_count": null,
   "metadata": {},
   "outputs": [],
   "source": [
    "data_folder = \"real_world_data\"\n",
    "# Load csv files\n",
    "case_file_g1 = data_folder * \"/\" * \"case_data_g1.csv\"\n",
    "case_file_g2 = data_folder * \"/\" * \"case_data_g2.csv\"\n",
    "population_file = data_folder * \"/\" * \"population_data_age.csv\"\n",
    "vaccine_file = data_folder * \"/\" * \"vaccine_data.csv\"\n",
    "\n",
    "case_data_g1 = CSV.read(case_file_g1, DataFrame)\n",
    "case_data_g2 = CSV.read(case_file_g2, DataFrame)\n",
    "population_data = CSV.read(population_file, DataFrame)\n",
    "vaccine_data = CSV.read(vaccine_file, DataFrame)\n",
    "\n",
    "P = Matrix(population_data)\n",
    "CG1 = Matrix(case_data_g1)\n",
    "CG2 = Matrix(case_data_g2)\n",
    "V = Matrix(vaccine_data)\n",
    "# convert population data to matrix\n",
    "\n",
    "CG1 = CG1'\n",
    "CG2 = CG2'\n",
    "C = cat(CG1, CG2, dims=3)\n",
    "P = P[:,2:3]\n",
    "V = V[:,1]\n",
    "\n",
    "println(\"C: \", size(C))\n",
    "println(\"P: \", size(P))\n",
    "println(\"V: \", size(V))\n",
    "\n",
    "n_states = 1:size(case_data_g1, 2)\n",
    "n_weeks = 1:size(case_data_g1, 1) \n",
    "n_weeks_2 = 1:size(case_data_g1, 1)-1 \n",
    "\n",
    "n_groups = 1:size(P, 2)\n",
    "n_doses = 1:3\n",
    "\n",
    "total_states = length(n_states) \n",
    "total_weeks = length(n_weeks) \n",
    "println(\"Number of states: \", n_states)\n",
    "println(\"Number of weeks: \", n_weeks)\n",
    "println(\"Number of groups: \", n_groups)\n",
    "println(\"Number of dose groups: \", n_doses)"
   ]
  },
  {
   "cell_type": "code",
   "execution_count": null,
   "metadata": {},
   "outputs": [],
   "source": [
    "model = Model(Gurobi.Optimizer)\n",
    "\n",
    "@variable(model, X[n_states, n_weeks, n_groups, n_doses] >= 0);\n",
    "@variable(model, W[n_states, n_weeks, n_groups, n_doses] >= 0);\n",
    "@variable(model, Y[n_states, n_weeks] >= 0);\n",
    "\n",
    "@objective(model, Min, sum(sum(Y[i,j] for i in n_states) for j in n_weeks));\n",
    "\n",
    "@constraint(model, hospitalizations[i in n_states, j in n_weeks],\n",
    "       Y[i,j] == sum(sum(C[i,j,g] * W[i,j,g,d] * R[g,d] for g in n_groups) for d in n_doses))\n",
    "\n",
    "@constraint(model, initial_vax_frac[i in n_states, g in n_groups, d in 1:2],\n",
    "       W[i,1,g,d] == 0) \n",
    "\n",
    "@constraint(model, frac_bounds[i in n_states, j in n_weeks, g in n_groups, d in n_doses],\n",
    "       W[i,j,g,d] <= 1)\n",
    "\n",
    "@constraint(model, vax1_frac[i in n_states, j in n_weeks_2, g in n_groups],\n",
    "       W[i,j+1,g,1] == W[i,j,g,1] + (X[i,j+1,g,1] - X[i,j+1,g,2]) / P[i,g]) \n",
    "\n",
    "@constraint(model, vax2_frac[i in n_states, j in n_weeks_2, g in n_groups],\n",
    "       W[i,j+1,g,2] == W[i,j,g,2] + X[i,j+1,g,2] / P[i,g]) \n",
    "\n",
    "@constraint(model, novax_frac[i in n_states, j in n_weeks, g in n_groups],\n",
    "       W[i,j,g,3] == 1 - W[i,j,g,1] - W[i,j,g,2])\n",
    "\n",
    "@constraint(model, num_vax2_c1[i in n_states, j in 1:5, g in n_groups],\n",
    "       X[i,j,g,2] == 0) \n",
    "\n",
    "@constraint(model, num_vax2_c2[i in n_states, j in 6:52, g in n_groups],\n",
    "       X[i,j,g,2] <= sum(X[i,k,g,1] for k in 1:j-5) - sum(X[i,k,g,2] for k in 1:j-1)) \n",
    "\n",
    "@constraint(model, vax_supply[j in n_weeks],\n",
    "       sum(sum(sum(X[i,j,g,d] for i in n_states) for g in n_groups) for d in n_doses) <= V[j]) \n",
    "\n",
    "@constraint(model, state_vax_capacity[i in n_states, j in n_weeks],\n",
    "       sum(sum(X[i,j,g,d] for g in n_groups) for d in n_doses) <= gamma * (P[i,1] + P[i,2]));"
   ]
  },
  {
   "cell_type": "code",
   "execution_count": null,
   "metadata": {},
   "outputs": [],
   "source": [
    "optimize!(model)\n",
    "objective_value(model)"
   ]
  },
  {
   "cell_type": "code",
   "execution_count": null,
   "metadata": {},
   "outputs": [],
   "source": [
    "W = value.(W)\n",
    "X = value.(X)\n",
    "Y = value.(Y);\n",
    "\n",
    "# X_soln = zeros(total_states, total_weeks)\n",
    "# Y_soln = zeros(total_states, total_weeks)\n",
    "# W_soln = zeros(total_states, total_weeks)\n",
    "# # Compute distances between all pairs of points\n",
    "# for i in n_states\n",
    "#     for j in n_weeks\n",
    "#         X_soln[i,j] = X[i,j]\n",
    "#         Y_soln[i,j] = Y[i,j]\n",
    "#         W_soln[i,j] = W[i,j]\n",
    "#     end\n",
    "# end\n",
    "\n",
    "# # save the solutions as a jld file\n",
    "# save(\"solution_real.jld\", \"X_soln\", X_soln, \"Y_soln\", Y_soln, \"W_soln\", W_soln)"
   ]
  },
  {
   "cell_type": "code",
   "execution_count": null,
   "metadata": {},
   "outputs": [],
   "source": [
    "plot(sum(Matrix(Y), dims=2), xlabel=\"Week\", ylabel=\"Hospitalizations\", label=\"LO soln.\")"
   ]
  }
 ],
 "metadata": {
  "kernelspec": {
   "display_name": "Julia 1.9.3",
   "language": "julia",
   "name": "julia-1.9"
  },
  "language_info": {
   "file_extension": ".jl",
   "mimetype": "application/julia",
   "name": "julia",
   "version": "1.9.3"
  }
 },
 "nbformat": 4,
 "nbformat_minor": 2
}
