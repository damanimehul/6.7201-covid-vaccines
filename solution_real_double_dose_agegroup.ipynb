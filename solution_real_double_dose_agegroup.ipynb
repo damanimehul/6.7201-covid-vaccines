{
 "cells": [
  {
   "cell_type": "code",
   "execution_count": 1,
   "metadata": {},
   "outputs": [],
   "source": [
    "using CSV, DataFrames, JuMP, Gurobi, Plots, HDF5, JLD"
   ]
  },
  {
   "cell_type": "code",
   "execution_count": 2,
   "metadata": {},
   "outputs": [],
   "source": [
    "# Some constants for the model\n",
    "alpha_g1 = 0.1    # Hospitalization rate for non-vaccinated and below 65 years-old\n",
    "alpha_g2 = 0.25   # Hospitalization rate for non-vaccinated and above 65 years-old\n",
    "beta_g1 = 0.02 ;  # Hospitalization rate for vaccinated and below 65 years-old\n",
    "beta_g2 = 0.02 ;  # Hospitalization rate for vaccinated and above 65 years-old\n",
    "gamma = 0.1        # State can only vaccinate 10% of population per week\n",
    "file_name = \"solution_real\" ; # JLD file to save the solution variables in for later analysis "
   ]
  },
  {
   "cell_type": "code",
   "execution_count": 11,
   "metadata": {},
   "outputs": [
    {
     "data": {
      "text/plain": [
       "50×52 adjoint(::Matrix{Int64}) with eltype Int64:\n",
       "  28929   22251   27365   26811   18659  …   3595   3272   2100   3792   4786\n",
       "   2223    1724    2026    1973    1377      2919   2349   1716   1510   1219\n",
       "  43988   39216   62191   67049   48815     24615  28356  20695  28655  22399\n",
       "  14873   15229   19429   19328   14198      4477   3648   3879   5636   4931\n",
       " 305346  271394  280190  311715  247717     36600  35113  32117  49647  43870\n",
       "  17252   13697   16083   16469   11987  …  24094  20435  16604  16173  12104\n",
       "  12924   12958   15791   21122   13558      4559   5262   6212  10679  18574\n",
       "   4344    4508    5635    5247    4538      2239   2591   2768   4084   4392\n",
       "  74172   75332   83762  102769   97100     10694  11384   9998  11389  14269\n",
       "  47684   46452   59099   68454   54424      6959   7526   6626   9338  10882\n",
       "    897     687    1131    1362     889  …    689    673    600    728   1565\n",
       "   8533    5880    6245    6255    5223      3209   3287   2432   3099   2380\n",
       "  47465   37315   43907   46742   35330     24868  32398  31094  51918  53522\n",
       "      ⋮                                  ⋱                           ⋮  \n",
       "   5360    6137    6714    6517    5091      2824   3534   4445   6089   7263\n",
       "  22110   21245   29760   32143   34465      4727   5060   4220   7269   7299\n",
       "   3435    2682    2957    2497    1864  …   2650   2819   2849   3260   2362\n",
       "  54213   39811   46286   38527   27870      8583   9275   9439  13087  12113\n",
       " 133398  114742  150087  153453  136650     24021  22041  22468  35688  31848\n",
       "  17084   14372   21015   19967   13453     11708  10327   8403   9901   7595\n",
       "    706     604     782    1162    1142      2515   2565   2179   3315   2974\n",
       "  26893   25210   32965   35266   43025  …  10111  10907  10822  16619  18104\n",
       "  16528   13170   17350   19270   13123     12283   8804   9518  10102   9402\n",
       "   9086    8289   10456    9569    7427      5442   5773   5040   7225   7071\n",
       "  22282   15782   19773   22021   15101     23975  26017  23000  25960  31504\n",
       "   2170    1473    1807    2296    1635      1947   1521   1113   1188    811"
      ]
     },
     "execution_count": 11,
     "metadata": {},
     "output_type": "execute_result"
    }
   ],
   "source": [
    "C"
   ]
  },
  {
   "cell_type": "code",
   "execution_count": 12,
   "metadata": {},
   "outputs": [
    {
     "ename": "LoadError",
     "evalue": "ArgumentError: \"real_world_data/case_data_g1.csv\" is not a valid file or doesn't exist",
     "output_type": "error",
     "traceback": [
      "ArgumentError: \"real_world_data/case_data_g1.csv\" is not a valid file or doesn't exist",
      "",
      "Stacktrace:",
      " [1] CSV.Context(source::CSV.Arg, header::CSV.Arg, normalizenames::CSV.Arg, datarow::CSV.Arg, skipto::CSV.Arg, footerskip::CSV.Arg, transpose::CSV.Arg, comment::CSV.Arg, ignoreemptyrows::CSV.Arg, ignoreemptylines::CSV.Arg, select::CSV.Arg, drop::CSV.Arg, limit::CSV.Arg, buffer_in_memory::CSV.Arg, threaded::CSV.Arg, ntasks::CSV.Arg, tasks::CSV.Arg, rows_to_check::CSV.Arg, lines_to_check::CSV.Arg, missingstrings::CSV.Arg, missingstring::CSV.Arg, delim::CSV.Arg, ignorerepeated::CSV.Arg, quoted::CSV.Arg, quotechar::CSV.Arg, openquotechar::CSV.Arg, closequotechar::CSV.Arg, escapechar::CSV.Arg, dateformat::CSV.Arg, dateformats::CSV.Arg, decimal::CSV.Arg, groupmark::CSV.Arg, truestrings::CSV.Arg, falsestrings::CSV.Arg, stripwhitespace::CSV.Arg, type::CSV.Arg, types::CSV.Arg, typemap::CSV.Arg, pool::CSV.Arg, downcast::CSV.Arg, lazystrings::CSV.Arg, stringtype::CSV.Arg, strict::CSV.Arg, silencewarnings::CSV.Arg, maxwarnings::CSV.Arg, debug::CSV.Arg, parsingdebug::CSV.Arg, validate::CSV.Arg, streaming::CSV.Arg)",
      "   @ CSV ~/.julia/packages/CSV/OnldF/src/context.jl:314",
      " [2] #File#32",
      "   @ ~/.julia/packages/CSV/OnldF/src/file.jl:222 [inlined]",
      " [3] CSV.File(source::String)",
      "   @ CSV ~/.julia/packages/CSV/OnldF/src/file.jl:162",
      " [4] read(source::String, sink::Type; copycols::Bool, kwargs::Base.Pairs{Symbol, Union{}, Tuple{}, NamedTuple{(), Tuple{}}})",
      "   @ CSV ~/.julia/packages/CSV/OnldF/src/CSV.jl:117",
      " [5] read(source::String, sink::Type)",
      "   @ CSV ~/.julia/packages/CSV/OnldF/src/CSV.jl:113",
      " [6] top-level scope",
      "   @ In[12]:8"
     ]
    }
   ],
   "source": [
    "data_folder = \"real_world_data\"\n",
    "# Load csv files\n",
    "case_file_g1 = data_folder * \"/\" * \"case_data_g1.csv\"\n",
    "case_file_g2 = data_folder * \"/\" * \"case_data_g2.csv\"\n",
    "population_file = data_folder * \"/\" * \"population_data_age.csv\"\n",
    "vaccine_file = data_folder * \"/\" * \"vaccine_data.csv\"\n",
    "\n",
    "case_data_g1 = CSV.read(case_file_g1, DataFrame)\n",
    "case_data_g2 = CSV.read(case_file_g2, DataFrame)\n",
    "population_data = CSV.read(population_file, DataFrame)\n",
    "vaccine_data = CSV.read(vaccine_file, DataFrame)\n",
    "\n",
    "\n",
    "P = Matrix(population_data)\n",
    "C1 = Matrix(case_data_g1)\n",
    "C2 = Matrix(case_data_g2)\n",
    "V = Matrix(vaccine_data)\n",
    "# convert population data to matrix\n",
    "\n",
    "C1 = C1'\n",
    "C2 = C2'\n",
    "V = V[:,1]\n",
    "P = P[:,2:3]\n",
    "\n",
    "println(\"C1: \", size(C1))\n",
    "println(\"C2: \", size(C2))\n",
    "println(\"P: \", size(P))\n",
    "println(\"V: \", size(V))"
   ]
  },
  {
   "cell_type": "code",
   "execution_count": null,
   "metadata": {},
   "outputs": [],
   "source": [
    "n_states = 1:size(case_data, 2)\n",
    "n_weeks = 1:size(case_data, 1) \n",
    "n_weeks_2 = 1:size(case_data, 1)-1 \n",
    "\n",
    "total_states = length(n_states) \n",
    "total_weeks = length(n_weeks) \n",
    "println(\"Number of states: \", n_states)\n",
    "println(\"Number of weeks: \", n_weeks)"
   ]
  },
  {
   "cell_type": "code",
   "execution_count": null,
   "metadata": {},
   "outputs": [],
   "source": [
    "model = Model(Gurobi.Optimizer)\n",
    "\n",
    "@variable(model, X1[n_states, n_weeks] >= 0);\n",
    "@variable(model, X2[n_states, n_weeks] >= 0);\n",
    "@variable(model, W1[n_states, n_weeks] >= 0);\n",
    "@variable(model, W2[n_states, n_weeks] >= 0);\n",
    "@variable(model, Y[n_states, n_weeks] >= 0);\n",
    "\n",
    "@objective(model, Min, sum(sum(Y[i,j] for i in n_states) for j in n_weeks));\n",
    "\n",
    "@constraint(model, hospitalizations[i in n_states,j in n_weeks], Y[i,j] == alpha_g1 * C[i,j] * (1 - W[i,j]) + beta * C[i,j] * W[i,j]) \n",
    "@constraint(model, vaccinated[i in n_states,j in n_weeks_2], W[i,j+1] == W[i,j] + X[i,j]/ P[i] ) "
   ]
  },
  {
   "cell_type": "code",
   "execution_count": null,
   "metadata": {},
   "outputs": [],
   "source": [
    "# Initial values of W are  0 \n",
    "@constraint(model, initial[i in n_states], W[i,1] == 0) "
   ]
  },
  {
   "cell_type": "code",
   "execution_count": null,
   "metadata": {},
   "outputs": [],
   "source": [
    "# W should be between 0 and 1\n",
    "@constraint(model, bounds[i in n_states,j in n_weeks], W[i,j] <= 1)"
   ]
  },
  {
   "cell_type": "code",
   "execution_count": null,
   "metadata": {},
   "outputs": [],
   "source": [
    "@constraint(model,vaccine_supply[j in n_weeks], sum(X[i,j] for i in n_states) <= V[j]) "
   ]
  },
  {
   "cell_type": "code",
   "execution_count": null,
   "metadata": {},
   "outputs": [],
   "source": [
    "@constraint(model, state_vaccination_capacity[i in n_states, j in n_weeks], X[i,j] <= gamma * P[i])  "
   ]
  },
  {
   "cell_type": "code",
   "execution_count": null,
   "metadata": {},
   "outputs": [],
   "source": [
    "optimize!(model)"
   ]
  },
  {
   "cell_type": "code",
   "execution_count": null,
   "metadata": {},
   "outputs": [],
   "source": [
    "objective_value(model)\n"
   ]
  },
  {
   "cell_type": "code",
   "execution_count": null,
   "metadata": {},
   "outputs": [],
   "source": [
    "W = value.(W)\n",
    "X = value.(X)\n",
    "Y = value.(Y)\n",
    "\n",
    "X_soln = zeros(total_states, total_weeks)\n",
    "Y_soln = zeros(total_states, total_weeks)\n",
    "W_soln = zeros(total_states, total_weeks)\n",
    "# Compute distances between all pairs of points\n",
    "for i in n_states\n",
    "    for j in n_weeks\n",
    "        X_soln[i,j] = X[i,j]\n",
    "        Y_soln[i,j] = Y[i,j]\n",
    "        W_soln[i,j] = W[i,j]\n",
    "    end\n",
    "end\n",
    "\n",
    "# save the solutions as a jld file\n",
    "save(\"solution_real.jld\", \"X_soln\", X_soln, \"Y_soln\", Y_soln, \"W_soln\", W_soln)"
   ]
  },
  {
   "cell_type": "code",
   "execution_count": null,
   "metadata": {},
   "outputs": [],
   "source": [
    "print(Y)"
   ]
  },
  {
   "cell_type": "code",
   "execution_count": null,
   "metadata": {},
   "outputs": [],
   "source": []
  },
  {
   "cell_type": "code",
   "execution_count": null,
   "metadata": {},
   "outputs": [],
   "source": []
  },
  {
   "cell_type": "code",
   "execution_count": null,
   "metadata": {},
   "outputs": [],
   "source": [
    "us_cases = CSV.read(\"real_original_data/us_cases.csv\", DataFrame)"
   ]
  },
  {
   "cell_type": "code",
   "execution_count": null,
   "metadata": {},
   "outputs": [],
   "source": []
  }
 ],
 "metadata": {
  "kernelspec": {
   "display_name": "Julia 1.9.3",
   "language": "julia",
   "name": "julia-1.9"
  },
  "language_info": {
   "file_extension": ".jl",
   "mimetype": "application/julia",
   "name": "julia",
   "version": "1.9.3"
  }
 },
 "nbformat": 4,
 "nbformat_minor": 2
}
