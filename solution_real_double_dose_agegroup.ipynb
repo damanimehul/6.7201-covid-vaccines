{
 "cells": [
  {
   "cell_type": "code",
   "execution_count": 1,
   "metadata": {},
   "outputs": [],
   "source": [
    "using CSV, DataFrames, JuMP, Gurobi, Plots, HDF5, JLD"
   ]
  },
  {
   "cell_type": "code",
   "execution_count": 3,
   "metadata": {},
   "outputs": [
    {
     "name": "stdout",
     "output_type": "stream",
     "text": [
      "R: (2, 3)\n"
     ]
    }
   ],
   "source": [
    "# Some constants for the model\n",
    "\n",
    "# R: hospitalization rates.\n",
    "# 2x3 (age group x dose group)\n",
    "# first row for ppl below 65 and second row for ppl above 65\n",
    "# first to third column: 1, 2, and 0 doses of vaccine\n",
    "# R = Matrix([0.003 0.002 0.03; 0.015 0.01 0.15]) \n",
    "R = Matrix([0.015 0.01 0.15; 0.015 0.01 0.15]) \n",
    "gamma = 0.1 # State can only vaccinate 10% of population per week\n",
    "\n",
    "println(\"R: \", size(R))"
   ]
  },
  {
   "cell_type": "code",
   "execution_count": 4,
   "metadata": {},
   "outputs": [
    {
     "name": "stdout",
     "output_type": "stream",
     "text": [
      "C: (50, 52, 2)\n",
      "P: (50, 2)\n",
      "V: (52,)\n",
      "Number of states: 1:50\n",
      "Number of weeks: 1:52\n",
      "Number of groups: 1:2\n",
      "Number of dose groups: 1:3\n"
     ]
    }
   ],
   "source": [
    "data_folder = \"real_world_data\"\n",
    "# Load csv files\n",
    "case_file_g1 = data_folder * \"/\" * \"case_data_g1.csv\"\n",
    "case_file_g2 = data_folder * \"/\" * \"case_data_g2.csv\"\n",
    "population_file = data_folder * \"/\" * \"population_data_age.csv\"\n",
    "vaccine_file = data_folder * \"/\" * \"vaccine_data.csv\"\n",
    "\n",
    "case_data_g1 = CSV.read(case_file_g1, DataFrame)\n",
    "case_data_g2 = CSV.read(case_file_g2, DataFrame)\n",
    "population_data = CSV.read(population_file, DataFrame)\n",
    "vaccine_data = CSV.read(vaccine_file, DataFrame)\n",
    "\n",
    "P = Matrix(population_data)\n",
    "CG1 = Matrix(case_data_g1)\n",
    "CG2 = Matrix(case_data_g2)\n",
    "V = Matrix(vaccine_data)\n",
    "# convert population data to matrix\n",
    "\n",
    "CG1 = CG1'\n",
    "CG2 = CG2'\n",
    "C = cat(CG1, CG2, dims=3)\n",
    "P = P[:,2:3]\n",
    "V = V[:,1]\n",
    "\n",
    "println(\"C: \", size(C))\n",
    "println(\"P: \", size(P))\n",
    "println(\"V: \", size(V))\n",
    "\n",
    "n_states = 1:size(case_data_g1, 2)\n",
    "n_weeks = 1:size(case_data_g1, 1) \n",
    "n_weeks_2 = 1:size(case_data_g1, 1)-1 \n",
    "\n",
    "n_groups = 1:size(P, 2)\n",
    "n_doses = 1:3\n",
    "\n",
    "total_states = length(n_states) \n",
    "total_weeks = length(n_weeks) \n",
    "println(\"Number of states: \", n_states)\n",
    "println(\"Number of weeks: \", n_weeks)\n",
    "println(\"Number of groups: \", n_groups)\n",
    "println(\"Number of dose groups: \", n_doses)"
   ]
  },
  {
   "cell_type": "code",
   "execution_count": 5,
   "metadata": {},
   "outputs": [
    {
     "name": "stdout",
     "output_type": "stream",
     "text": [
      "Set parameter Username\n",
      "Academic license - for non-commercial use only - expires 2024-09-18\n"
     ]
    }
   ],
   "source": [
    "model = Model(Gurobi.Optimizer)\n",
    "\n",
    "@variable(model, X[n_states, n_weeks, n_groups, n_doses] >= 0);\n",
    "@variable(model, W[n_states, n_weeks, n_groups, n_doses] >= 0);\n",
    "@variable(model, Y[n_states, n_weeks] >= 0);\n",
    "\n",
    "@objective(model, Min, sum(sum(Y[i,j] for i in n_states) for j in n_weeks));\n",
    "\n",
    "@constraint(model, hospitalizations[i in n_states, j in n_weeks],\n",
    "       Y[i,j] == sum(sum(C[i,j,g] * W[i,j,g,d] * R[g,d] for g in n_groups) for d in n_doses))\n",
    "\n",
    "@constraint(model, initial_vax_frac[i in n_states, g in n_groups, d in 1:2],\n",
    "       W[i,1,g,d] == 0) \n",
    "\n",
    "@constraint(model, frac_bounds[i in n_states, j in n_weeks, g in n_groups, d in n_doses],\n",
    "       W[i,j,g,d] <= 1)\n",
    "\n",
    "@constraint(model, vax1_frac[i in n_states, j in n_weeks_2, g in n_groups],\n",
    "       W[i,j+1,g,1] == W[i,j,g,1] + (X[i,j+1,g,1] - X[i,j+1,g,2]) / P[i,g]) \n",
    "\n",
    "@constraint(model, vax2_frac[i in n_states, j in n_weeks_2, g in n_groups],\n",
    "       W[i,j+1,g,2] == W[i,j,g,2] + X[i,j+1,g,2] / P[i,g]) \n",
    "\n",
    "@constraint(model, novax_frac[i in n_states, j in n_weeks, g in n_groups],\n",
    "       W[i,j,g,3] == 1 - W[i,j,g,1] - W[i,j,g,2])\n",
    "\n",
    "@constraint(model, num_vax2_c1[i in n_states, j in 1:5, g in n_groups],\n",
    "       X[i,j,g,2] == 0) \n",
    "\n",
    "@constraint(model, num_vax2_c2[i in n_states, j in 6:52, g in n_groups],\n",
    "       X[i,j,g,2] <= sum(X[i,k,g,1] for k in 1:j-5) - sum(X[i,k,g,2] for k in 1:j-1)) \n",
    "\n",
    "# @constraint(model, num_vax2_c2[i in n_states, j in 6:52, g in n_groups],\n",
    "#        X[i,j,g,2] <= W[i,j-5,g,1] * (P[i,1] + P[i,2]) - sum(X[i,k,g,2] for k in 1:j-1)) \n",
    "\n",
    "@constraint(model, vax_supply[j in n_weeks],\n",
    "       sum(sum(sum(X[i,j,g,d] for i in n_states) for g in n_groups) for d in n_doses) <= V[j]) \n",
    "\n",
    "@constraint(model, state_vax_capacity[i in n_states, j in n_weeks],\n",
    "       sum(sum(X[i,j,g,d] for g in n_groups) for d in n_doses) <= gamma * (P[i,1] + P[i,2]));"
   ]
  },
  {
   "cell_type": "code",
   "execution_count": 11,
   "metadata": {},
   "outputs": [
    {
     "name": "stdout",
     "output_type": "stream",
     "text": [
      "Gurobi Optimizer version 10.0.3 build v10.0.3rc0 (mac64[arm])\n",
      "\n",
      "CPU model: Apple M1 Pro\n",
      "Thread count: 8 physical cores, 8 logical processors, using up to 8 threads\n",
      "\n",
      "Optimize a model with 41652 rows, 33800 columns and 366100 nonzeros\n",
      "Model fingerprint: 0x4f1bb5d1\n",
      "Coefficient statistics:\n",
      "  Matrix range     [3e-08, 4e+04]\n",
      "  Objective range  [1e+00, 1e+00]\n",
      "  Bounds range     [0e+00, 0e+00]\n",
      "  RHS range        [1e+00, 3e+07]\n",
      "Warning: Model contains large matrix coefficient range\n",
      "         Consider reformulating model or setting NumericFocus parameter\n",
      "         to avoid numerical issues.\n",
      "Presolve removed 23800 rows and 13400 columns\n",
      "Presolve time: 0.06s\n",
      "Presolved: 17852 rows, 20400 columns, 290100 nonzeros\n",
      "\n",
      "Concurrent LP optimizer: primal simplex, dual simplex, and barrier\n",
      "Showing barrier log only...\n",
      "\n",
      "Ordering time: 0.01s\n",
      "\n",
      "Barrier statistics:\n",
      " AA' NZ     : 6.692e+05\n",
      " Factor NZ  : 1.048e+06 (roughly 24 MB of memory)\n",
      " Factor Ops : 7.472e+07 (less than 1 second per iteration)\n",
      " Threads    : 6\n",
      "\n",
      "                  Objective                Residual\n",
      "Iter       Primal          Dual         Primal    Dual     Compl     Time\n",
      "   0   1.70579199e+08 -8.86900199e+07  1.41e+07 1.47e+00  9.43e+05     0s\n",
      "   1   1.43668321e+08 -9.95070664e+07  1.18e+07 8.55e+00  7.74e+05     0s\n",
      "   2   5.65327943e+07 -1.21803673e+08  4.51e+06 8.46e-02  2.89e+05     0s\n",
      "   3   1.30031485e+07 -9.90042851e+07  8.55e+05 5.54e-14  5.87e+04     0s\n",
      "   4   6.20601591e+06 -5.28431308e+07  2.99e+05 5.65e-14  1.90e+04     0s\n",
      "   5   3.31179879e+06 -2.62935495e+07  6.28e+04 3.06e-14  4.82e+03     0s\n",
      "   6   2.77003295e+06 -8.79096315e+06  2.23e+04 2.11e-14  1.52e+03     0s\n",
      "   7   2.52008449e+06 -2.52126537e+06  8.58e+03 1.54e-14  5.53e+02     0s\n",
      "   8   2.38050252e+06 -2.47922154e+05  4.33e+03 1.03e-14  2.63e+02     0s\n",
      "   9   2.31576427e+06  3.70698526e+05  3.11e+03 8.50e-15  1.87e+02     0s\n",
      "  10   2.20761769e+06  1.11799478e+06  1.50e+03 5.11e-15  9.82e+01     0s\n",
      "  11   2.16460249e+06  1.48767003e+06  1.06e+03 3.89e-15  6.00e+01     0s\n",
      "  12   2.11521719e+06  1.78238829e+06  6.75e+02 3.66e-15  2.91e+01     0s\n",
      "  13   2.07736525e+06  1.89229447e+06  4.48e+02 3.05e-15  1.61e+01     0s\n",
      "  14   2.04112296e+06  1.93884780e+06  2.45e+02 3.25e-15  8.82e+00     0s\n",
      "  15   2.02615800e+06  1.96316926e+06  1.71e+02 3.68e-15  5.44e+00     0s\n",
      "  16   2.01075554e+06  1.97261343e+06  9.97e+01 2.75e-15  3.28e+00     0s\n",
      "  17   1.99843017e+06  1.98045507e+06  4.99e+01 2.94e-15  1.55e+00     0s\n",
      "  18   1.99457067e+06  1.98431200e+06  3.19e+01 3.29e-15  8.87e-01     0s\n",
      "  19   1.99152516e+06  1.98550961e+06  1.82e+01 2.55e-15  5.19e-01     0s\n",
      "  20   1.99017536e+06  1.98630456e+06  1.23e+01 3.00e-15  3.35e-01     0s\n",
      "  21   1.98914394e+06  1.98686050e+06  7.93e+00 2.17e-15  1.98e-01     0s\n",
      "  22   1.98823419e+06  1.98707123e+06  4.03e+00 2.22e-15  1.01e-01     0s\n",
      "  23   1.98757906e+06  1.98716319e+06  1.26e+00 3.66e-15  3.59e-02     0s\n",
      "  24   1.98741223e+06  1.98722355e+06  5.64e-01 3.00e-15  1.63e-02     0s\n",
      "  25   1.98733640e+06  1.98725190e+06  2.65e-01 4.33e-15  7.31e-03     0s\n",
      "  26   1.98728434e+06  1.98726631e+06  5.89e-02 1.13e-12  1.56e-03     0s\n",
      "  27   1.98727188e+06  1.98726857e+06  1.15e-02 1.59e-12  2.88e-04     0s\n",
      "  28   1.98726917e+06  1.98726873e+06  1.36e-03 1.85e-11  3.81e-05     0s\n",
      "  29   1.98726877e+06  1.98726874e+06  7.38e-05 1.24e-11  2.66e-06     0s\n",
      "  30   1.98726875e+06  1.98726875e+06  1.91e-07 3.42e-12  9.03e-09     0s\n",
      "\n",
      "Barrier solved model in 30 iterations and 0.45 seconds (0.77 work units)\n",
      "Optimal objective 1.98726875e+06\n",
      "\n",
      "Crossover log...\n",
      "\n",
      "    6525 DPushes remaining with DInf 1.7796364e-03                 0s\n",
      "       0 DPushes remaining with DInf 0.0000000e+00                 0s\n",
      "\n",
      "    1422 PPushes remaining with PInf 6.6531785e-05                 0s\n",
      "       0 PPushes remaining with PInf 0.0000000e+00                 0s\n",
      "\n",
      "  Push phase complete: Pinf 0.0000000e+00, Dinf 8.9738315e-03      0s\n",
      "\n",
      "Iteration    Objective       Primal Inf.    Dual Inf.      Time\n",
      "    7950    1.9872687e+06   0.000000e+00   8.973832e-03      1s\n",
      "\n",
      "Solved with barrier\n",
      "    7954    1.9872687e+06   0.000000e+00   0.000000e+00      1s\n",
      "\n",
      "Solved in 7954 iterations and 0.53 seconds (0.84 work units)\n",
      "Optimal objective  1.987268748e+06\n",
      "\n",
      "User-callback calls 8236, time in user-callback 0.00 sec\n"
     ]
    },
    {
     "data": {
      "text/plain": [
       "1.987268748319196e6"
      ]
     },
     "execution_count": 11,
     "metadata": {},
     "output_type": "execute_result"
    }
   ],
   "source": [
    "optimize!(model)\n",
    "objective_value(model)"
   ]
  },
  {
   "cell_type": "code",
   "execution_count": 15,
   "metadata": {},
   "outputs": [],
   "source": [
    "W = value.(W)\n",
    "X = value.(X)\n",
    "Y = value.(Y);\n",
    "\n",
    "X_soln = zeros(total_states, total_weeks,2,2)\n",
    "Y_soln = zeros(total_states, total_weeks)\n",
    "W_soln = zeros(total_states, total_weeks,2,2)\n",
    "# Compute distances between all pairs of points\n",
    "for i in n_states\n",
    "    for j in n_weeks\n",
    "        Y_soln[i,j] = Y[i,j]\n",
    "        for g in 1:2\n",
    "            for d in 1:2\n",
    "                X_soln[i,j,g,d] = X[i,j,g,d]\n",
    "                W_soln[i,j,g,d] = W[i,j,g,d]\n",
    "            end\n",
    "        end\n",
    "    end\n",
    "end\n",
    "\n",
    "# save the solutions as a jld file\n",
    "save(\"solution_real_age.jld\", \"X_soln\", X_soln, \"Y_soln\", Y_soln, \"W_soln\", W_soln)"
   ]
  },
  {
   "cell_type": "code",
   "execution_count": null,
   "metadata": {},
   "outputs": [],
   "source": [
    "case_data = CSV.read(\"real_world_data/case_data.csv\", DataFrame)\n",
    "tot_case = sum(Matrix(case_data), dims=2)"
   ]
  },
  {
   "cell_type": "code",
   "execution_count": null,
   "metadata": {},
   "outputs": [],
   "source": [
    "tot_case"
   ]
  },
  {
   "cell_type": "code",
   "execution_count": 9,
   "metadata": {},
   "outputs": [
    {
     "ename": "LoadError",
     "evalue": "Cannot convert Matrix{AffExpr} to series data for plotting",
     "output_type": "error",
     "traceback": [
      "Cannot convert Matrix{AffExpr} to series data for plotting",
      "",
      "Stacktrace:",
      "  [1] error(s::String)",
      "    @ Base ./error.jl:35",
      "  [2] _prepare_series_data(x::Matrix{AffExpr})",
      "    @ RecipesPipeline ~/.julia/packages/RecipesPipeline/BGM3l/src/series.jl:8",
      "  [3] _series_data_vector(x::Matrix{AffExpr}, plotattributes::Dict{Symbol, Any})",
      "    @ RecipesPipeline ~/.julia/packages/RecipesPipeline/BGM3l/src/series.jl:36",
      "  [4] macro expansion",
      "    @ ~/.julia/packages/RecipesPipeline/BGM3l/src/series.jl:129 [inlined]",
      "  [5] apply_recipe(plotattributes::AbstractDict{Symbol, Any}, #unused#::Type{RecipesPipeline.SliceIt}, x::Any, y::Any, z::Any)",
      "    @ RecipesPipeline ~/.julia/packages/RecipesBase/BRe07/src/RecipesBase.jl:300",
      "  [6] _process_userrecipes!(plt::Any, plotattributes::Any, args::Any)",
      "    @ RecipesPipeline ~/.julia/packages/RecipesPipeline/BGM3l/src/user_recipe.jl:38",
      "  [7] recipe_pipeline!(plt::Any, plotattributes::Any, args::Any)",
      "    @ RecipesPipeline ~/.julia/packages/RecipesPipeline/BGM3l/src/RecipesPipeline.jl:72",
      "  [8] _plot!(plt::Plots.Plot, plotattributes::Any, args::Any)",
      "    @ Plots ~/.julia/packages/Plots/sxUvK/src/plot.jl:223",
      "  [9] plot(args::Any; kw::Base.Pairs{Symbol, V, Tuple{Vararg{Symbol, N}}, NamedTuple{names, T}} where {V, N, names, T<:Tuple{Vararg{Any, N}}})",
      "    @ Plots ~/.julia/packages/Plots/sxUvK/src/plot.jl:102",
      " [10] plot!(args::Any; kw::Base.Pairs{Symbol, V, Tuple{Vararg{Symbol, N}}, NamedTuple{names, T}} where {V, N, names, T<:Tuple{Vararg{Any, N}}})",
      "    @ Plots ~/.julia/packages/Plots/sxUvK/src/plot.jl:200",
      " [11] top-level scope",
      "    @ In[9]:1"
     ]
    }
   ],
   "source": [
    "plot!(sum(Matrix(Y), dims=2), xlabel=\"Week\", ylabel=\"Hospitalizations\", label=\"LO soln.\")\n",
    "plot!(tot_case, xlabel=\"Week\", ylabel=\"Hospitalizations\", label=\"true.\")"
   ]
  },
  {
   "cell_type": "code",
   "execution_count": 13,
   "metadata": {},
   "outputs": [
    {
     "ename": "LoadError",
     "evalue": "MethodError: no method matching (Matrix)(::JuMP.Containers.DenseAxisArray{Float64, 4, NTuple{4, UnitRange{Int64}}, NTuple{4, JuMP.Containers._AxisLookup{Tuple{Int64, Int64}}}})\n\n\u001b[0mClosest candidates are:\n\u001b[0m  (Array{T, N} where T)(::AbstractArray{S, N}) where {S, N}\n\u001b[0m\u001b[90m   @\u001b[39m \u001b[90mCore\u001b[39m \u001b[90m\u001b[4mboot.jl:498\u001b[24m\u001b[39m\n\u001b[0m  (Matrix)(\u001b[91m::Union{LinearAlgebra.QR, LinearAlgebra.QRCompactWY}\u001b[39m)\n\u001b[0m\u001b[90m   @\u001b[39m \u001b[33mLinearAlgebra\u001b[39m \u001b[90m/Applications/Julia-1.9.app/Contents/Resources/julia/share/julia/stdlib/v1.9/LinearAlgebra/src/\u001b[39m\u001b[90m\u001b[4mqr.jl:449\u001b[24m\u001b[39m\n\u001b[0m  (Matrix)(\u001b[91m::LinearAlgebra.Cholesky\u001b[39m)\n\u001b[0m\u001b[90m   @\u001b[39m \u001b[33mLinearAlgebra\u001b[39m \u001b[90m/Applications/Julia-1.9.app/Contents/Resources/julia/share/julia/stdlib/v1.9/LinearAlgebra/src/\u001b[39m\u001b[90m\u001b[4mcholesky.jl:497\u001b[24m\u001b[39m\n\u001b[0m  ...\n",
     "output_type": "error",
     "traceback": [
      "MethodError: no method matching (Matrix)(::JuMP.Containers.DenseAxisArray{Float64, 4, NTuple{4, UnitRange{Int64}}, NTuple{4, JuMP.Containers._AxisLookup{Tuple{Int64, Int64}}}})\n\n\u001b[0mClosest candidates are:\n\u001b[0m  (Array{T, N} where T)(::AbstractArray{S, N}) where {S, N}\n\u001b[0m\u001b[90m   @\u001b[39m \u001b[90mCore\u001b[39m \u001b[90m\u001b[4mboot.jl:498\u001b[24m\u001b[39m\n\u001b[0m  (Matrix)(\u001b[91m::Union{LinearAlgebra.QR, LinearAlgebra.QRCompactWY}\u001b[39m)\n\u001b[0m\u001b[90m   @\u001b[39m \u001b[33mLinearAlgebra\u001b[39m \u001b[90m/Applications/Julia-1.9.app/Contents/Resources/julia/share/julia/stdlib/v1.9/LinearAlgebra/src/\u001b[39m\u001b[90m\u001b[4mqr.jl:449\u001b[24m\u001b[39m\n\u001b[0m  (Matrix)(\u001b[91m::LinearAlgebra.Cholesky\u001b[39m)\n\u001b[0m\u001b[90m   @\u001b[39m \u001b[33mLinearAlgebra\u001b[39m \u001b[90m/Applications/Julia-1.9.app/Contents/Resources/julia/share/julia/stdlib/v1.9/LinearAlgebra/src/\u001b[39m\u001b[90m\u001b[4mcholesky.jl:497\u001b[24m\u001b[39m\n\u001b[0m  ...\n",
      "",
      "Stacktrace:",
      " [1] top-level scope",
      "   @ In[13]:1"
     ]
    }
   ],
   "source": [
    "plot!(sum(Matrix(W), dims=2), xlabel=\"Week\", ylabel=\"Hospitalizations\", label=\"LO soln.\")"
   ]
  },
  {
   "cell_type": "code",
   "execution_count": null,
   "metadata": {},
   "outputs": [],
   "source": [
    "sum(Array(W)[:,:,2,2], dims=2)"
   ]
  },
  {
   "cell_type": "code",
   "execution_count": 7,
   "metadata": {},
   "outputs": [
    {
     "ename": "LoadError",
     "evalue": "Cannot convert Matrix{AffExpr} to series data for plotting",
     "output_type": "error",
     "traceback": [
      "Cannot convert Matrix{AffExpr} to series data for plotting",
      "",
      "Stacktrace:",
      "  [1] error(s::String)",
      "    @ Base ./error.jl:35",
      "  [2] _prepare_series_data(x::Matrix{AffExpr})",
      "    @ RecipesPipeline ~/.julia/packages/RecipesPipeline/BGM3l/src/series.jl:8",
      "  [3] _series_data_vector(x::Matrix{AffExpr}, plotattributes::Dict{Symbol, Any})",
      "    @ RecipesPipeline ~/.julia/packages/RecipesPipeline/BGM3l/src/series.jl:36",
      "  [4] macro expansion",
      "    @ ~/.julia/packages/RecipesPipeline/BGM3l/src/series.jl:129 [inlined]",
      "  [5] apply_recipe(plotattributes::AbstractDict{Symbol, Any}, #unused#::Type{RecipesPipeline.SliceIt}, x::Any, y::Any, z::Any)",
      "    @ RecipesPipeline ~/.julia/packages/RecipesBase/BRe07/src/RecipesBase.jl:300",
      "  [6] _process_userrecipes!(plt::Any, plotattributes::Any, args::Any)",
      "    @ RecipesPipeline ~/.julia/packages/RecipesPipeline/BGM3l/src/user_recipe.jl:38",
      "  [7] recipe_pipeline!(plt::Any, plotattributes::Any, args::Any)",
      "    @ RecipesPipeline ~/.julia/packages/RecipesPipeline/BGM3l/src/RecipesPipeline.jl:72",
      "  [8] _plot!(plt::Plots.Plot, plotattributes::Any, args::Any)",
      "    @ Plots ~/.julia/packages/Plots/sxUvK/src/plot.jl:223",
      "  [9] plot(args::Any; kw::Base.Pairs{Symbol, V, Tuple{Vararg{Symbol, N}}, NamedTuple{names, T}} where {V, N, names, T<:Tuple{Vararg{Any, N}}})",
      "    @ Plots ~/.julia/packages/Plots/sxUvK/src/plot.jl:102",
      " [10] plot!(args::Any; kw::Base.Pairs{Symbol, V, Tuple{Vararg{Symbol, N}}, NamedTuple{names, T}} where {V, N, names, T<:Tuple{Vararg{Any, N}}})",
      "    @ Plots ~/.julia/packages/Plots/sxUvK/src/plot.jl:200",
      " [11] top-level scope",
      "    @ In[7]:1"
     ]
    }
   ],
   "source": [
    "plot!(sum(Array(W)[:,:,2,2],dims=1), xlabel=\"Week\", ylabel=\"Hospitalizations\", label=\"LO soln.\")"
   ]
  },
  {
   "cell_type": "code",
   "execution_count": 8,
   "metadata": {},
   "outputs": [
    {
     "ename": "LoadError",
     "evalue": "Cannot convert Matrix{AffExpr} to series data for plotting",
     "output_type": "error",
     "traceback": [
      "Cannot convert Matrix{AffExpr} to series data for plotting",
      "",
      "Stacktrace:",
      "  [1] error(s::String)",
      "    @ Base ./error.jl:35",
      "  [2] _prepare_series_data(x::Matrix{AffExpr})",
      "    @ RecipesPipeline ~/.julia/packages/RecipesPipeline/BGM3l/src/series.jl:8",
      "  [3] _series_data_vector(x::Matrix{AffExpr}, plotattributes::Dict{Symbol, Any})",
      "    @ RecipesPipeline ~/.julia/packages/RecipesPipeline/BGM3l/src/series.jl:36",
      "  [4] macro expansion",
      "    @ ~/.julia/packages/RecipesPipeline/BGM3l/src/series.jl:129 [inlined]",
      "  [5] apply_recipe(plotattributes::AbstractDict{Symbol, Any}, #unused#::Type{RecipesPipeline.SliceIt}, x::Any, y::Any, z::Any)",
      "    @ RecipesPipeline ~/.julia/packages/RecipesBase/BRe07/src/RecipesBase.jl:300",
      "  [6] _process_userrecipes!(plt::Any, plotattributes::Any, args::Any)",
      "    @ RecipesPipeline ~/.julia/packages/RecipesPipeline/BGM3l/src/user_recipe.jl:38",
      "  [7] recipe_pipeline!(plt::Any, plotattributes::Any, args::Any)",
      "    @ RecipesPipeline ~/.julia/packages/RecipesPipeline/BGM3l/src/RecipesPipeline.jl:72",
      "  [8] _plot!(plt::Plots.Plot, plotattributes::Any, args::Any)",
      "    @ Plots ~/.julia/packages/Plots/sxUvK/src/plot.jl:223",
      "  [9] plot(args::Any; kw::Base.Pairs{Symbol, V, Tuple{Vararg{Symbol, N}}, NamedTuple{names, T}} where {V, N, names, T<:Tuple{Vararg{Any, N}}})",
      "    @ Plots ~/.julia/packages/Plots/sxUvK/src/plot.jl:102",
      " [10] plot!(args::Any; kw::Base.Pairs{Symbol, V, Tuple{Vararg{Symbol, N}}, NamedTuple{names, T}} where {V, N, names, T<:Tuple{Vararg{Any, N}}})",
      "    @ Plots ~/.julia/packages/Plots/sxUvK/src/plot.jl:200",
      " [11] top-level scope",
      "    @ In[8]:1"
     ]
    }
   ],
   "source": [
    "plot!(sum(Array(W)[:,:,2,2],dims=2), xlabel=\"Week\", ylabel=\"2nd Vax rates\", label=\"LO soln.\")"
   ]
  },
  {
   "cell_type": "code",
   "execution_count": null,
   "metadata": {},
   "outputs": [],
   "source": []
  },
  {
   "cell_type": "code",
   "execution_count": null,
   "metadata": {},
   "outputs": [],
   "source": [
    "(66.1 / 1e5) * ( 58 * 1e6 / sum(Matrix(case_data_g2), dims=2)[1])"
   ]
  },
  {
   "cell_type": "code",
   "execution_count": null,
   "metadata": {},
   "outputs": [],
   "source": [
    "(15 / 1e5) * ( 272 * 1e6 / sum(Matrix(case_data_g1), dims=2)[1])"
   ]
  },
  {
   "cell_type": "code",
   "execution_count": null,
   "metadata": {},
   "outputs": [],
   "source": []
  }
 ],
 "metadata": {
  "kernelspec": {
   "display_name": "Julia 1.9.3",
   "language": "julia",
   "name": "julia-1.9"
  },
  "language_info": {
   "file_extension": ".jl",
   "mimetype": "application/julia",
   "name": "julia",
   "version": "1.9.3"
  }
 },
 "nbformat": 4,
 "nbformat_minor": 2
}
