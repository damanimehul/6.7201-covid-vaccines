{
 "cells": [
  {
   "cell_type": "code",
   "execution_count": 1,
   "metadata": {},
   "outputs": [],
   "source": [
    "using CSV, DataFrames, JuMP, Gurobi, Plots, HDF5, JLD"
   ]
  },
  {
   "cell_type": "code",
   "execution_count": 2,
   "metadata": {},
   "outputs": [
    {
     "data": {
      "text/plain": [
       "0.1"
      ]
     },
     "execution_count": 2,
     "metadata": {},
     "output_type": "execute_result"
    }
   ],
   "source": [
    "# Some constants for the model\n",
    "\n",
    "# R: hospitalization rates.\n",
    "# 2x3 (age group x dose group)\n",
    "# first row for ppl below 65 and second row for ppl above 65\n",
    "# first to third column: 1, 2, and 0 doses of vaccine\n",
    "R = Matrix([0.003 0.002 0.03; 0.015 0.01 0.15]) \n",
    "gamma = 0.1 # State can only vaccinate 5% of population per week"
   ]
  },
  {
   "cell_type": "code",
   "execution_count": 3,
   "metadata": {},
   "outputs": [
    {
     "name": "stdout",
     "output_type": "stream",
     "text": [
      "C: (50, 52, 2)\n",
      "P: (50, 2)\n",
      "V: (52,)\n",
      "Number of states: 1:50\n",
      "Number of weeks: 1:52\n",
      "Number of groups: 1:2\n",
      "Number of dose groups: 1:3\n"
     ]
    }
   ],
   "source": [
    "data_folder = \"real_world_data\"\n",
    "# Load csv files\n",
    "case_file_g1 = data_folder * \"/\" * \"case_data_g1.csv\"\n",
    "case_file_g2 = data_folder * \"/\" * \"case_data_g2.csv\"\n",
    "population_file = data_folder * \"/\" * \"population_data_age.csv\"\n",
    "vaccine_file = data_folder * \"/\" * \"vaccine_data.csv\"\n",
    "\n",
    "case_data_g1 = CSV.read(case_file_g1, DataFrame)\n",
    "case_data_g2 = CSV.read(case_file_g2, DataFrame)\n",
    "population_data = CSV.read(population_file, DataFrame)\n",
    "vaccine_data = CSV.read(vaccine_file, DataFrame)\n",
    "\n",
    "P = Matrix(population_data)\n",
    "CG1 = Matrix(case_data_g1)\n",
    "CG2 = Matrix(case_data_g2)\n",
    "V = Matrix(vaccine_data)\n",
    "# convert population data to matrix\n",
    "\n",
    "CG1 = CG1'\n",
    "CG2 = CG2'\n",
    "C = cat(CG1, CG2, dims=3)\n",
    "P = P[:,2:3]\n",
    "V = V[:,1]\n",
    "\n",
    "println(\"C: \", size(C))\n",
    "println(\"P: \", size(P))\n",
    "println(\"V: \", size(V))\n",
    "\n",
    "n_states = 1:size(case_data_g1, 2)\n",
    "n_weeks = 1:size(case_data_g1, 1) \n",
    "n_weeks_2 = 1:size(case_data_g1, 1)-1 \n",
    "\n",
    "n_groups = 1:size(P, 2)\n",
    "n_doses = 1:3\n",
    "\n",
    "total_states = length(n_states) \n",
    "total_weeks = length(n_weeks) \n",
    "println(\"Number of states: \", n_states)\n",
    "println(\"Number of weeks: \", n_weeks)\n",
    "println(\"Number of groups: \", n_groups)\n",
    "println(\"Number of dose groups: \", n_doses)"
   ]
  },
  {
   "cell_type": "code",
   "execution_count": 4,
   "metadata": {},
   "outputs": [
    {
     "name": "stdout",
     "output_type": "stream",
     "text": [
      "Set parameter Username\n",
      "Academic license - for non-commercial use only - expires 2024-09-18\n"
     ]
    }
   ],
   "source": [
    "model = Model(Gurobi.Optimizer)\n",
    "\n",
    "@variable(model, X[n_states, n_weeks, n_groups, n_doses] >= 0);\n",
    "@variable(model, W[n_states, n_weeks, n_groups, n_doses] >= 0);\n",
    "@variable(model, Y[n_states, n_weeks] >= 0);\n",
    "\n",
    "@objective(model, Min, sum(sum(Y[i,j] for i in n_states) for j in n_weeks));\n",
    "\n",
    "@constraint(model, hospitalizations[i in n_states, j in n_weeks],\n",
    "       Y[i,j] == sum(sum(C[i,j,g] * W[i,j,g,d] * R[g,d] for g in n_groups) for d in n_doses))\n",
    "\n",
    "@constraint(model, initial_vax_frac[i in n_states, g in n_groups, d in 1:2],\n",
    "       W[i,1,g,d] == 0) \n",
    "\n",
    "@constraint(model, frac_bounds[i in n_states, j in n_weeks, g in n_groups, d in n_doses],\n",
    "       W[i,j,g,d] <= 1)\n",
    "\n",
    "@constraint(model, vax1_frac[i in n_states, j in n_weeks_2, g in n_groups],\n",
    "       W[i,j+1,g,1] == W[i,j,g,1] + (X[i,j+1,g,1] - X[i,j+1,g,2]) / P[i,g]) \n",
    "\n",
    "@constraint(model, vax2_frac[i in n_states, j in n_weeks_2, g in n_groups],\n",
    "       W[i,j+1,g,2] == W[i,j,g,2] + X[i,j+1,g,2] / P[i,g]) \n",
    "\n",
    "@constraint(model, novax_frac[i in n_states, j in n_weeks, g in n_groups],\n",
    "       W[i,j,g,3] == 1 - W[i,j,g,1] - W[i,j,g,2])\n",
    "\n",
    "@constraint(model, num_vax2_c1[i in n_states, j in 1:5, g in n_groups],\n",
    "       X[i,j,g,2] == 0) \n",
    "\n",
    "@constraint(model, num_vax2_c2[i in n_states, j in 6:52, g in n_groups],\n",
    "       X[i,j,g,2] <= sum(X[i,k,g,1] for k in 1:j-5) - sum(X[i,k,g,2] for k in 1:j-1)) \n",
    "\n",
    "@constraint(model, vax_supply[j in n_weeks],\n",
    "       sum(sum(sum(X[i,j,g,d] for i in n_states) for g in n_groups) for d in n_doses) <= V[j]) \n",
    "\n",
    "@constraint(model, state_vax_capacity[i in n_states, j in n_weeks],\n",
    "       sum(sum(X[i,j,g,d] for g in n_groups) for d in n_doses) <= gamma * (P[i,1] + P[i,2]));"
   ]
  },
  {
   "cell_type": "code",
   "execution_count": 5,
   "metadata": {},
   "outputs": [
    {
     "name": "stdout",
     "output_type": "stream",
     "text": [
      "Gurobi Optimizer version 10.0.3 build v10.0.3rc0 (mac64[arm])\n",
      "\n",
      "CPU model: Apple M1 Pro\n",
      "Thread count: 8 physical cores, 8 logical processors, using up to 8 threads\n",
      "\n",
      "Optimize a model with 41652 rows, 33800 columns and 366100 nonzeros\n",
      "Model fingerprint: 0x2152dc46\n",
      "Coefficient statistics:\n",
      "  Matrix range     [3e-08, 8e+03]\n",
      "  Objective range  [1e+00, 1e+00]\n",
      "  Bounds range     [0e+00, 0e+00]\n",
      "  RHS range        [1e+00, 3e+07]\n",
      "Presolve removed 23800 rows and 13400 columns\n",
      "Presolve time: 0.05s\n",
      "Presolved: 17852 rows, 20400 columns, 290100 nonzeros\n",
      "\n",
      "Concurrent LP optimizer: primal simplex, dual simplex, and barrier\n",
      "Showing barrier log only...\n",
      "\n",
      "Ordering time: 0.01s\n",
      "\n",
      "Barrier statistics:\n",
      " AA' NZ     : 6.692e+05\n",
      " Factor NZ  : 1.048e+06 (roughly 24 MB of memory)\n",
      " Factor Ops : 7.472e+07 (less than 1 second per iteration)\n",
      " Threads    : 6\n",
      "\n",
      "                  Objective                Residual\n",
      "Iter       Primal          Dual         Primal    Dual     Compl     Time\n",
      "   0   7.78739075e+07 -5.12206514e+07  1.41e+07 1.34e+00  1.08e+06     0s\n",
      "   1   6.54866500e+07 -5.73025481e+07  1.18e+07 9.82e+00  8.82e+05     0s\n",
      "   2   2.55957787e+07 -6.92681514e+07  4.53e+06 7.73e-01  3.34e+05     0s\n",
      "   3   5.19310075e+06 -5.76381302e+07  7.82e+05 6.21e-14  6.26e+04     0s\n",
      "   4   2.29235244e+06 -3.00642133e+07  2.59e+05 6.81e-14  1.93e+04     0s\n",
      "   5   1.15175839e+06 -1.44203623e+07  5.35e+04 2.91e-14  4.83e+03     0s\n",
      "   6   8.65972033e+05 -5.09904700e+06  9.87e+03 2.67e-14  1.26e+03     0s\n",
      "   7   7.94763930e+05 -1.88567336e+06  4.87e+03 1.53e-14  5.22e+02     0s\n",
      "   8   7.29219029e+05 -6.83530810e+05  1.86e+03 9.90e-15  2.53e+02     0s\n",
      "   9   6.71962443e+05  2.44965454e+04  8.57e+02 1.16e-14  1.12e+02     0s\n",
      "  10   6.28838874e+05  3.40335365e+05  4.81e+02 4.79e-15  4.95e+01     0s\n",
      "  11   6.06433153e+05  4.19798995e+05  3.42e+02 3.68e-15  3.19e+01     0s\n",
      "  12   5.83337367e+05  4.78624398e+05  2.23e+02 4.01e-15  1.79e+01     0s\n",
      "  13   5.63606980e+05  5.06690389e+05  1.35e+02 4.88e-15  9.71e+00     0s\n",
      "  14   5.52789232e+05  5.18699565e+05  8.76e+01 3.27e-15  5.82e+00     0s\n",
      "  15   5.45652488e+05  5.23106889e+05  5.84e+01 4.91e-15  3.85e+00     0s\n",
      "  16   5.39442267e+05  5.26116121e+05  3.39e+01 5.33e-15  2.27e+00     0s\n",
      "  17   5.34076418e+05  5.27942753e+05  1.34e+01 3.83e-15  1.04e+00     0s\n",
      "  18   5.31912376e+05  5.29039937e+05  5.65e+00 2.70e-15  4.87e-01     0s\n",
      "  19   5.31246769e+05  5.29617489e+05  3.32e+00 4.32e-15  2.76e-01     0s\n",
      "  20   5.30793356e+05  5.29862943e+05  1.75e+00 5.83e-15  1.58e-01     0s\n",
      "  21   5.30432490e+05  5.30045057e+05  5.16e-01 3.11e-15  6.53e-02     0s\n",
      "  22   5.30332446e+05  5.30199867e+05  1.81e-01 5.22e-15  2.23e-02     0s\n",
      "  23   5.30284258e+05  5.30239598e+05  4.30e-02 4.45e-15  7.50e-03     0s\n",
      "  24   5.30273331e+05  5.30257318e+05  1.31e-02 3.14e-10  2.68e-03     0s\n",
      "  25   5.30269061e+05  5.30264428e+05  2.19e-03 2.63e-10  7.74e-04     0s\n",
      "  26   5.30268200e+05  5.30267656e+05  6.03e-04 5.14e-11  9.15e-05     0s\n",
      "  27   5.30267862e+05  5.30267829e+05  3.72e-05 1.39e-11  5.52e-06     0s\n",
      "  28   5.30267835e+05  5.30267835e+05  1.50e-07 1.76e-12  9.84e-09     0s\n",
      "\n",
      "Barrier solved model in 28 iterations and 0.50 seconds (0.74 work units)\n",
      "Optimal objective 5.30267835e+05\n",
      "\n",
      "Crossover log...\n",
      "\n",
      "    7334 DPushes remaining with DInf 0.0000000e+00                 1s\n",
      "       0 DPushes remaining with DInf 0.0000000e+00                 1s\n",
      "\n",
      "    1168 PPushes remaining with PInf 2.9977283e-05                 1s\n",
      "       0 PPushes remaining with PInf 0.0000000e+00                 1s\n",
      "\n",
      "  Push phase complete: Pinf 0.0000000e+00, Dinf 3.0709788e-12      1s\n",
      "\n",
      "\n",
      "Solved with barrier\n",
      "Iteration    Objective       Primal Inf.    Dual Inf.      Time\n",
      "    8505    5.3026784e+05   0.000000e+00   0.000000e+00      1s\n",
      "\n",
      "Solved in 8505 iterations and 0.58 seconds (0.80 work units)\n",
      "Optimal objective  5.302678351e+05\n",
      "\n",
      "User-callback calls 8753, time in user-callback 0.00 sec\n"
     ]
    },
    {
     "data": {
      "text/plain": [
       "530267.8351419154"
      ]
     },
     "execution_count": 5,
     "metadata": {},
     "output_type": "execute_result"
    }
   ],
   "source": [
    "optimize!(model)\n",
    "objective_value(model)"
   ]
  },
  {
   "cell_type": "code",
   "execution_count": 6,
   "metadata": {},
   "outputs": [],
   "source": [
    "W = value.(W)\n",
    "X = value.(X)\n",
    "Y = value.(Y);\n",
    "\n",
    "X_soln = zeros(total_states, total_weeks,2,2)\n",
    "Y_soln = zeros(total_states, total_weeks)\n",
    "W_soln = zeros(total_states, total_weeks,2,2)\n",
    "# Compute distances between all pairs of points\n",
    "for i in n_states\n",
    "    for j in n_weeks\n",
    "        Y_soln[i,j] = Y[i,j]\n",
    "        for g in 1:2\n",
    "            for d in 1:2\n",
    "                X_soln[i,j,g,d] = X[i,j,g,d]\n",
    "                W_soln[i,j,g,d] = W[i,j,g,d]\n",
    "            end\n",
    "        end\n",
    "    end\n",
    "end\n",
    "\n",
    "# save the solutions as a jld file\n",
    "save(\"real_soln_DD_AG.jld\", \"X_soln\", X_soln, \"Y_soln\", Y_soln, \"W_soln\", W_soln)"
   ]
  },
  {
   "cell_type": "code",
   "execution_count": null,
   "metadata": {},
   "outputs": [],
   "source": []
  }
 ],
 "metadata": {
  "kernelspec": {
   "display_name": "Julia 1.9.3",
   "language": "julia",
   "name": "julia-1.9"
  },
  "language_info": {
   "file_extension": ".jl",
   "mimetype": "application/julia",
   "name": "julia",
   "version": "1.9.3"
  }
 },
 "nbformat": 4,
 "nbformat_minor": 2
}
