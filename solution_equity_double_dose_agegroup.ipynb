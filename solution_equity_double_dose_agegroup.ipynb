{
 "cells": [
  {
   "cell_type": "code",
   "execution_count": 1,
   "metadata": {},
   "outputs": [],
   "source": [
    "using CSV, DataFrames, JuMP, Gurobi, Plots, HDF5, JLD"
   ]
  },
  {
   "cell_type": "code",
   "execution_count": 2,
   "metadata": {},
   "outputs": [
    {
     "data": {
      "text/plain": [
       "0.1"
      ]
     },
     "execution_count": 2,
     "metadata": {},
     "output_type": "execute_result"
    }
   ],
   "source": [
    "# Some constants for the model\n",
    "\n",
    "# R: hospitalization rates.\n",
    "# 2x3 (age group x dose group)\n",
    "# first row for ppl below 65 and second row for ppl above 65\n",
    "# first to third column: 1, 2, and 0 doses of vaccine\n",
    "R = Matrix([0.003 0.002 0.03; 0.015 0.01 0.15]) \n",
    "gamma = 0.1 # State can only vaccinate 5% of population per week"
   ]
  },
  {
   "cell_type": "code",
   "execution_count": 3,
   "metadata": {},
   "outputs": [
    {
     "name": "stdout",
     "output_type": "stream",
     "text": [
      "C: (50, 52, 2)\n",
      "P: (50, 2)\n",
      "V: (52,)\n",
      "Number of states: 1:50\n",
      "Number of weeks: 1:52\n",
      "Number of groups: 1:2\n",
      "Number of dose groups: 1:3\n"
     ]
    }
   ],
   "source": [
    "data_folder = \"real_world_data\"\n",
    "# Load csv files\n",
    "case_file_g1 = data_folder * \"/\" * \"case_data_g1.csv\"\n",
    "case_file_g2 = data_folder * \"/\" * \"case_data_g2.csv\"\n",
    "population_file = data_folder * \"/\" * \"population_data_age.csv\"\n",
    "vaccine_file = data_folder * \"/\" * \"vaccine_data.csv\"\n",
    "\n",
    "case_data_g1 = CSV.read(case_file_g1, DataFrame)\n",
    "case_data_g2 = CSV.read(case_file_g2, DataFrame)\n",
    "population_data = CSV.read(population_file, DataFrame)\n",
    "vaccine_data = CSV.read(vaccine_file, DataFrame)\n",
    "\n",
    "P = Matrix(population_data)\n",
    "CG1 = Matrix(case_data_g1)\n",
    "CG2 = Matrix(case_data_g2)\n",
    "V = Matrix(vaccine_data)\n",
    "# convert population data to matrix\n",
    "\n",
    "CG1 = CG1'\n",
    "CG2 = CG2'\n",
    "C = cat(CG1, CG2, dims=3)\n",
    "P = P[:,2:3]\n",
    "bigP = sum(P, dims=2)\n",
    "FP = bigP / sum(bigP)\n",
    "V = V[:,1]\n",
    "\n",
    "println(\"C: \", size(C))\n",
    "println(\"P: \", size(P))\n",
    "println(\"V: \", size(V))\n",
    "\n",
    "n_states = 1:size(case_data_g1, 2)\n",
    "n_weeks = 1:size(case_data_g1, 1) \n",
    "n_weeks_2 = 1:size(case_data_g1, 1)-1 \n",
    "\n",
    "n_groups = 1:size(P, 2)\n",
    "n_doses = 1:3\n",
    "\n",
    "total_states = length(n_states) \n",
    "total_weeks = length(n_weeks) \n",
    "println(\"Number of states: \", n_states)\n",
    "println(\"Number of weeks: \", n_weeks)\n",
    "println(\"Number of groups: \", n_groups)\n",
    "println(\"Number of dose groups: \", n_doses)"
   ]
  },
  {
   "cell_type": "code",
   "execution_count": 4,
   "metadata": {},
   "outputs": [
    {
     "name": "stdout",
     "output_type": "stream",
     "text": [
      "Set parameter Username\n",
      "Academic license - for non-commercial use only - expires 2024-09-18\n"
     ]
    },
    {
     "data": {
      "text/plain": [
       "2-dimensional DenseAxisArray{ConstraintRef{Model, MathOptInterface.ConstraintIndex{MathOptInterface.ScalarAffineFunction{Float64}, MathOptInterface.EqualTo{Float64}}, ScalarShape},2,...} with index sets:\n",
       "    Dimension 1, 1:50\n",
       "    Dimension 2, 1:52\n",
       "And data, a 50×52 Matrix{ConstraintRef{Model, MathOptInterface.ConstraintIndex{MathOptInterface.ScalarAffineFunction{Float64}, MathOptInterface.EqualTo{Float64}}, ScalarShape}}:\n",
       " vax_state_equity1[1,1] : X[1,1,1,1] + X[1,1,2,1] + X[1,1,1,2] + X[1,1,2,2] + X[1,1,1,3] + X[1,1,2,3] = 149508.06916312088         …  vax_state_equity1[1,52] : X[1,52,1,1] + X[1,52,2,1] + X[1,52,1,2] + X[1,52,2,2] + X[1,52,1,3] + X[1,52,2,3] = 39583.70954746182\n",
       " vax_state_equity1[2,1] : X[2,1,1,1] + X[2,1,2,1] + X[2,1,1,2] + X[2,1,2,2] + X[2,1,1,3] + X[2,1,2,3] = 22306.292839437072            vax_state_equity1[2,52] : X[2,52,1,1] + X[2,52,2,1] + X[2,52,1,2] + X[2,52,2,2] + X[2,52,1,3] + X[2,52,2,3] = 5905.807103117249\n",
       " vax_state_equity1[3,1] : X[3,1,1,1] + X[3,1,2,1] + X[3,1,1,2] + X[3,1,2,2] + X[3,1,1,3] + X[3,1,2,3] = 221942.86461856603            vax_state_equity1[3,52] : X[3,52,1,1] + X[3,52,2,1] + X[3,52,1,2] + X[3,52,2,2] + X[3,52,1,3] + X[3,52,2,3] = 58761.52329683106\n",
       " vax_state_equity1[4,1] : X[4,1,1,1] + X[4,1,2,1] + X[4,1,1,2] + X[4,1,2,2] + X[4,1,1,3] + X[4,1,2,3] = 92018.97320879038             vax_state_equity1[4,52] : X[4,52,1,1] + X[4,52,2,1] + X[4,52,1,2] + X[4,52,2,2] + X[4,52,1,3] + X[4,52,2,3] = 24362.914515191344\n",
       " vax_state_equity1[5,1] : X[5,1,1,1] + X[5,1,2,1] + X[5,1,1,2] + X[5,1,2,2] + X[5,1,1,3] + X[5,1,2,3] = 1.2048079297584437e6          vax_state_equity1[5,52] : X[5,52,1,1] + X[5,52,2,1] + X[5,52,1,2] + X[5,52,2,2] + X[5,52,1,3] + X[5,52,2,3] = 318984.5699900249\n",
       " vax_state_equity1[6,1] : X[6,1,1,1] + X[6,1,2,1] + X[6,1,1,2] + X[6,1,2,2] + X[6,1,1,3] + X[6,1,2,3] = 175595.5568023956          …  vax_state_equity1[6,52] : X[6,52,1,1] + X[6,52,2,1] + X[6,52,1,2] + X[6,52,2,2] + X[6,52,1,3] + X[6,52,2,3] = 46490.624601052594\n",
       " vax_state_equity1[7,1] : X[7,1,1,1] + X[7,1,2,1] + X[7,1,1,2] + X[7,1,2,2] + X[7,1,1,3] + X[7,1,2,3] = 108712.8418328853             vax_state_equity1[7,52] : X[7,52,1,1] + X[7,52,2,1] + X[7,52,1,2] + X[7,52,2,2] + X[7,52,1,3] + X[7,52,2,3] = 28782.777941550543\n",
       " vax_state_equity1[8,1] : X[8,1,1,1] + X[8,1,2,1] + X[8,1,1,2] + X[8,1,2,2] + X[8,1,1,3] + X[8,1,2,3] = 29692.04210335878             vax_state_equity1[8,52] : X[8,52,1,1] + X[8,52,2,1] + X[8,52,1,2] + X[8,52,2,2] + X[8,52,1,3] + X[8,52,2,3] = 7861.255764115489\n",
       " vax_state_equity1[9,1] : X[9,1,1,1] + X[9,1,2,1] + X[9,1,1,2] + X[9,1,2,2] + X[9,1,1,3] + X[9,1,2,3] = 654899.8230463096             vax_state_equity1[9,52] : X[9,52,1,1] + X[9,52,2,1] + X[9,52,1,2] + X[9,52,2,2] + X[9,52,1,3] + X[9,52,2,3] = 173391.07195522377\n",
       " vax_state_equity1[10,1] : X[10,1,1,1] + X[10,1,2,1] + X[10,1,1,2] + X[10,1,2,2] + X[10,1,1,3] + X[10,1,2,3] = 323746.7915687681      vax_state_equity1[10,52] : X[10,52,1,1] + X[10,52,2,1] + X[10,52,1,2] + X[10,52,2,2] + X[10,52,1,3] + X[10,52,2,3] = 85715.09909875736\n",
       " vax_state_equity1[11,1] : X[11,1,1,1] + X[11,1,2,1] + X[11,1,1,2] + X[11,1,2,2] + X[11,1,1,3] + X[11,1,2,3] = 43172.8129577257    …  vax_state_equity1[11,52] : X[11,52,1,1] + X[11,52,2,1] + X[11,52,1,2] + X[11,52,2,2] + X[11,52,1,3] + X[11,52,2,3] = 11430.420431695695\n",
       " vax_state_equity1[12,1] : X[12,1,1,1] + X[12,1,2,1] + X[12,1,1,2] + X[12,1,2,2] + X[12,1,1,3] + X[12,1,2,3] = 54491.241431639355     vax_state_equity1[12,52] : X[12,52,1,1] + X[12,52,2,1] + X[12,52,1,2] + X[12,52,2,2] + X[12,52,1,3] + X[12,52,2,3] = 14427.084008136517\n",
       " vax_state_equity1[13,1] : X[13,1,1,1] + X[13,1,2,1] + X[13,1,1,2] + X[13,1,2,2] + X[13,1,1,3] + X[13,1,2,3] = 386389.5591316027      vax_state_equity1[13,52] : X[13,52,1,1] + X[13,52,2,1] + X[13,52,1,2] + X[13,52,2,2] + X[13,52,1,3] + X[13,52,2,3] = 102300.37861133674\n",
       " ⋮                                                                                                                                 ⋱  \n",
       " vax_state_equity1[39,1] : X[39,1,1,1] + X[39,1,2,1] + X[39,1,1,2] + X[39,1,2,2] + X[39,1,1,3] + X[39,1,2,3] = 32302.06848338639      vax_state_equity1[39,52] : X[39,52,1,1] + X[39,52,2,1] + X[39,52,1,2] + X[39,52,2,2] + X[39,52,1,3] + X[39,52,2,3] = 8552.285530712934\n",
       " vax_state_equity1[40,1] : X[40,1,1,1] + X[40,1,2,1] + X[40,1,1,2] + X[40,1,2,2] + X[40,1,1,3] + X[40,1,2,3] = 156994.74704975006     vax_state_equity1[40,52] : X[40,52,1,1] + X[40,52,2,1] + X[40,52,1,2] + X[40,52,2,2] + X[40,52,1,3] + X[40,52,2,3] = 41565.88003898493\n",
       " vax_state_equity1[41,1] : X[41,1,1,1] + X[41,1,2,1] + X[41,1,1,2] + X[41,1,2,2] + X[41,1,1,3] + X[41,1,2,3] = 26975.049678479878  …  vax_state_equity1[41,52] : X[41,52,1,1] + X[41,52,2,1] + X[41,52,1,2] + X[41,52,2,2] + X[41,52,1,3] + X[41,52,2,3] = 7141.90570099803\n",
       " vax_state_equity1[42,1] : X[42,1,1,1] + X[42,1,2,1] + X[42,1,1,2] + X[42,1,2,2] + X[42,1,1,3] + X[42,1,2,3] = 208235.3855134952      vax_state_equity1[42,52] : X[42,52,1,1] + X[42,52,2,1] + X[42,52,1,2] + X[42,52,2,2] + X[42,52,1,3] + X[42,52,2,3] = 55132.335423827164\n",
       " vax_state_equity1[43,1] : X[43,1,1,1] + X[43,1,2,1] + X[43,1,1,2] + X[43,1,2,2] + X[43,1,1,3] + X[43,1,2,3] = 884143.3031781632      vax_state_equity1[43,52] : X[43,52,1,1] + X[43,52,2,1] + X[43,52,1,2] + X[43,52,2,2] + X[43,52,1,3] + X[43,52,2,3] = 234085.50392790945\n",
       " vax_state_equity1[44,1] : X[44,1,1,1] + X[44,1,2,1] + X[44,1,1,2] + X[44,1,2,2] + X[44,1,1,3] + X[44,1,2,3] = 97756.17081510501      vax_state_equity1[44,52] : X[44,52,1,1] + X[44,52,2,1] + X[44,52,1,2] + X[44,52,2,2] + X[44,52,1,3] + X[44,52,2,3] = 25881.893155849022\n",
       " vax_state_equity1[45,1] : X[45,1,1,1] + X[45,1,2,1] + X[45,1,1,2] + X[45,1,2,2] + X[45,1,1,3] + X[45,1,2,3] = 19026.69195003383      vax_state_equity1[45,52] : X[45,52,1,1] + X[45,52,2,1] + X[45,52,1,2] + X[45,52,2,2] + X[45,52,1,3] + X[45,52,2,3] = 5037.500999209932\n",
       " vax_state_equity1[46,1] : X[46,1,1,1] + X[46,1,2,1] + X[46,1,1,2] + X[46,1,2,2] + X[46,1,1,3] + X[46,1,2,3] = 260265.31020043753  …  vax_state_equity1[46,52] : X[46,52,1,1] + X[46,52,2,1] + X[46,52,1,2] + X[46,52,2,2] + X[46,52,1,3] + X[46,52,2,3] = 68907.76198182236\n",
       " vax_state_equity1[47,1] : X[47,1,1,1] + X[47,1,2,1] + X[47,1,1,2] + X[47,1,2,2] + X[47,1,1,3] + X[47,1,2,3] = 232193.55364192152     vax_state_equity1[47,52] : X[47,52,1,1] + X[47,52,2,1] + X[47,52,1,2] + X[47,52,2,2] + X[47,52,1,3] + X[47,52,2,3] = 61475.492510888354\n",
       " vax_state_equity1[48,1] : X[48,1,1,1] + X[48,1,2,1] + X[48,1,1,2] + X[48,1,2,2] + X[48,1,1,3] + X[48,1,2,3] = 54646.20193333101      vax_state_equity1[48,52] : X[48,52,1,1] + X[48,52,2,1] + X[48,52,1,2] + X[48,52,2,2] + X[48,52,1,3] + X[48,52,2,3] = 14468.111302011866\n",
       " vax_state_equity1[49,1] : X[49,1,1,1] + X[49,1,2,1] + X[49,1,1,2] + X[49,1,2,2] + X[49,1,1,3] + X[49,1,2,3] = 177537.83819490933     vax_state_equity1[49,52] : X[49,52,1,1] + X[49,52,2,1] + X[49,52,1,2] + X[49,52,2,2] + X[49,52,1,3] + X[49,52,2,3] = 47004.86241397506\n",
       " vax_state_equity1[50,1] : X[50,1,1,1] + X[50,1,2,1] + X[50,1,1,2] + X[50,1,2,2] + X[50,1,1,3] + X[50,1,2,3] = 17647.537386571927     vax_state_equity1[50,52] : X[50,52,1,1] + X[50,52,2,1] + X[50,52,1,2] + X[50,52,2,2] + X[50,52,1,3] + X[50,52,2,3] = 4672.356469107213"
      ]
     },
     "execution_count": 4,
     "metadata": {},
     "output_type": "execute_result"
    }
   ],
   "source": [
    "model = Model(Gurobi.Optimizer)\n",
    "\n",
    "@variable(model, X[n_states, n_weeks, n_groups, n_doses] >= 0);\n",
    "@variable(model, W[n_states, n_weeks, n_groups, n_doses] >= 0);\n",
    "@variable(model, Y[n_states, n_weeks] >= 0);\n",
    "\n",
    "@objective(model, Min, sum(sum(Y[i,j] for i in n_states) for j in n_weeks));\n",
    "\n",
    "@constraint(model, hospitalizations[i in n_states, j in n_weeks],\n",
    "       Y[i,j] == sum(sum(C[i,j,g] * W[i,j,g,d] * R[g,d] for g in n_groups) for d in n_doses))\n",
    "\n",
    "@constraint(model, initial_vax_frac[i in n_states, g in n_groups, d in 1:2],\n",
    "       W[i,1,g,d] == 0) \n",
    "\n",
    "@constraint(model, frac_bounds[i in n_states, j in n_weeks, g in n_groups, d in n_doses],\n",
    "       W[i,j,g,d] <= 1)\n",
    "\n",
    "@constraint(model, vax1_frac[i in n_states, j in n_weeks_2, g in n_groups],\n",
    "       W[i,j+1,g,1] == W[i,j,g,1] + (X[i,j+1,g,1] - X[i,j+1,g,2]) / P[i,g]) \n",
    "\n",
    "@constraint(model, vax2_frac[i in n_states, j in n_weeks_2, g in n_groups],\n",
    "       W[i,j+1,g,2] == W[i,j,g,2] + X[i,j+1,g,2] / P[i,g]) \n",
    "\n",
    "@constraint(model, novax_frac[i in n_states, j in n_weeks, g in n_groups],\n",
    "       W[i,j,g,3] == 1 - W[i,j,g,1] - W[i,j,g,2])\n",
    "\n",
    "@constraint(model, num_vax2_c1[i in n_states, j in 1:5, g in n_groups],\n",
    "       X[i,j,g,2] == 0) \n",
    "\n",
    "@constraint(model, num_vax2_c2[i in n_states, j in 6:52, g in n_groups],\n",
    "       X[i,j,g,2] <= sum(X[i,k,g,1] for k in 1:j-5) - sum(X[i,k,g,2] for k in 1:j-1)) \n",
    "\n",
    "@constraint(model, vax_supply[j in n_weeks],\n",
    "       sum(sum(sum(X[i,j,g,d] for i in n_states) for g in n_groups) for d in n_doses) <= V[j]) \n",
    "\n",
    "@constraint(model, state_vax_capacity[i in n_states, j in n_weeks],\n",
    "       sum(sum(X[i,j,g,d] for g in n_groups) for d in n_doses) <= gamma * (P[i,1] + P[i,2]));\n",
    "\n",
    "@constraint(model, vax_state_equity1[i in n_states, j in n_weeks],\n",
    "       sum(sum(X[i,j,g,d] for g in n_groups) for d in n_doses) == V[j] * FP[i]) \n"
   ]
  },
  {
   "cell_type": "code",
   "execution_count": 5,
   "metadata": {},
   "outputs": [
    {
     "name": "stdout",
     "output_type": "stream",
     "text": [
      "Gurobi Optimizer version 10.0.3 build v10.0.3rc0 (mac64[arm])\n",
      "\n",
      "CPU model: Apple M1 Pro\n",
      "Thread count: 8 physical cores, 8 logical processors, using up to 8 threads\n",
      "\n",
      "Optimize a model with 44252 rows, 33800 columns and 381700 nonzeros\n",
      "Model fingerprint: 0x7df31519\n",
      "Coefficient statistics:\n",
      "  Matrix range     [3e-08, 8e+03]\n",
      "  Objective range  [1e+00, 1e+00]\n",
      "  Bounds range     [0e+00, 0e+00]\n",
      "  RHS range        [1e+00, 3e+07]\n",
      "Presolve removed 26400 rows and 10800 columns\n",
      "Presolve time: 0.06s\n",
      "Presolved: 17852 rows, 23000 columns, 295300 nonzeros\n",
      "\n",
      "Concurrent LP optimizer: primal simplex, dual simplex, and barrier\n",
      "Showing barrier log only...\n",
      "\n",
      "Ordering time: 0.01s\n",
      "\n",
      "Barrier statistics:\n",
      " AA' NZ     : 6.692e+05\n",
      " Factor NZ  : 1.051e+06 (roughly 25 MB of memory)\n",
      " Factor Ops : 7.526e+07 (less than 1 second per iteration)\n",
      " Threads    : 6\n",
      "\n",
      "                  Objective                Residual\n",
      "Iter       Primal          Dual         Primal    Dual     Compl     Time\n",
      "   0   5.75053767e+07 -4.67799033e+07  1.61e+07 2.26e+00  1.23e+06     0s\n",
      "   1   3.28424991e+07 -6.17664831e+07  9.15e+06 1.93e-13  6.76e+05     0s\n",
      "   2   6.32776733e+06 -5.12957510e+07  1.54e+06 1.33e-13  1.22e+05     0s\n",
      "   3   1.97125184e+06 -3.13916775e+07  2.91e+05 1.59e-13  2.76e+04     0s\n",
      "   4   1.06955258e+06 -1.15218628e+07  4.80e+04 9.65e-14  6.00e+03     0s\n",
      "   5   8.85095894e+05 -3.15670969e+06  1.12e+04 5.86e-14  1.55e+03     0s\n",
      "   6   7.72630189e+05 -7.44280543e+05  2.33e+03 2.62e-14  5.09e+02     0s\n",
      "\n",
      "Barrier performed 6 iterations in 0.22 seconds (0.33 work units)\n",
      "Barrier solve interrupted - model solved by another algorithm\n",
      "\n",
      "\n",
      "Solved with primal simplex\n",
      "Iteration    Objective       Primal Inf.    Dual Inf.      Time\n",
      "   15159    5.6619126e+05   0.000000e+00   0.000000e+00      0s\n",
      "\n",
      "Solved in 15159 iterations and 0.24 seconds (0.48 work units)\n",
      "Optimal objective  5.661912578e+05\n",
      "\n",
      "User-callback calls 134, time in user-callback 0.00 sec\n"
     ]
    },
    {
     "data": {
      "text/plain": [
       "566191.2577984517"
      ]
     },
     "execution_count": 5,
     "metadata": {},
     "output_type": "execute_result"
    }
   ],
   "source": [
    "optimize!(model)\n",
    "objective_value(model)"
   ]
  },
  {
   "cell_type": "code",
   "execution_count": 6,
   "metadata": {},
   "outputs": [],
   "source": [
    "W = value.(W)\n",
    "X = value.(X)\n",
    "Y = value.(Y);\n",
    "\n",
    "X_soln = zeros(total_states, total_weeks,2,2)\n",
    "Y_soln = zeros(total_states, total_weeks)\n",
    "W_soln = zeros(total_states, total_weeks,2,2)\n",
    "# Compute distances between all pairs of points\n",
    "for i in n_states\n",
    "    for j in n_weeks\n",
    "        Y_soln[i,j] = Y[i,j]\n",
    "        for g in 1:2\n",
    "            for d in 1:2\n",
    "                X_soln[i,j,g,d] = X[i,j,g,d]\n",
    "                W_soln[i,j,g,d] = W[i,j,g,d]\n",
    "            end\n",
    "        end\n",
    "    end\n",
    "end\n",
    "\n",
    "# save the solutions as a jld file\n",
    "save(\"equity_soln_DD_AG.jld\", \"X_soln\", X_soln, \"Y_soln\", Y_soln, \"W_soln\", W_soln)"
   ]
  },
  {
   "cell_type": "code",
   "execution_count": null,
   "metadata": {},
   "outputs": [],
   "source": []
  }
 ],
 "metadata": {
  "kernelspec": {
   "display_name": "Julia 1.9.3",
   "language": "julia",
   "name": "julia-1.9"
  },
  "language_info": {
   "file_extension": ".jl",
   "mimetype": "application/julia",
   "name": "julia",
   "version": "1.9.3"
  }
 },
 "nbformat": 4,
 "nbformat_minor": 2
}
