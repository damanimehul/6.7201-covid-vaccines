{
 "cells": [
  {
   "cell_type": "code",
   "execution_count": 1,
   "metadata": {},
   "outputs": [],
   "source": [
    "import numpy as np \n",
    "import pandas as  pd \n",
    "import matplotlib.pyplot as plt"
   ]
  },
  {
   "cell_type": "code",
   "execution_count": null,
   "metadata": {},
   "outputs": [],
   "source": [
    "state_dict = {\n",
    "    'AL': 'Alabama','AK': 'Alaska','AZ': 'Arizona', 'AR': 'Arkansas','CA': 'California','CO': 'Colorado','CT': 'Connecticut',\n",
    "    'DE': 'Delaware','FL': 'Florida','GA': 'Georgia','HI': 'Hawaii','ID': 'Idaho', 'IL': 'Illinois', 'IN': 'Indiana', 'IA': 'Iowa','KS': 'Kansas',\n",
    "    'KY': 'Kentucky','LA': 'Louisiana', 'ME': 'Maine','MD': 'Maryland','MA': 'Massachusetts','MI': 'Michigan','MN': 'Minnesota', 'MS': 'Mississippi','MO': 'Missouri','MT': 'Montana','NE': 'Nebraska','NV': 'Nevada','NH': 'New Hampshire','NJ': 'New Jersey','NM': 'New Mexico','NY': 'New York','NC': 'North Carolina','ND': 'North Dakota','OH': 'Ohio','OK': 'Oklahoma','OR': 'Oregon',\n",
    "    'PA': 'Pennsylvania','RI': 'Rhode Island','SC': 'South Carolina','SD': 'South Dakota','TN': 'Tennessee','TX': 'Texas','UT': 'Utah','VT': 'Vermont','VA': 'Virginia','WA': 'Washington','WV': 'West Virginia','WI': 'Wisconsin','WY': 'Wyoming' }  \n",
    "\n",
    "\n",
    "# load data from us_cases.csv\n",
    "us_pop = pd.read_csv('real_original_data/us_population.csv')\n",
    "# select rows with year=2019 \n",
    "us_pop = us_pop[us_pop['Year'] == 2019] \n",
    "us_pop = us_pop[['Description', 'Total Population', 'Population 65+']] \n",
    "\n",
    "# Make a new EMPTY dataframe\n",
    "new_df = pd.DataFrame(columns=['state','population'])\n",
    "new_df_age = pd.DataFrame(columns=['state','population-below-65','population-above-65'])\n",
    "\n",
    "# Iterate through each state in the state_dict\n",
    "for state in state_dict:\n",
    "    # Get the population of the state from the us_pop dataframe\n",
    "    pop = us_pop[us_pop['Description'] == state_dict[state]]['Total Population'].values[0]\n",
    "    pop65p = us_pop[us_pop['Description'] == state_dict[state]]['Population 65+'].values[0]\n",
    "    # Create a new row for the state and population\n",
    "    new_row = {'state':state,'population': pop}\n",
    "    new_row_age = {'state': state, 'population-below-65': pop - pop65p, 'population-above-65': pop65p}\n",
    "    # Append the new row to the new_df\n",
    "    new_df = new_df.append(new_row, ignore_index=True) \n",
    "    new_df_age = new_df_age.append(new_row_age, ignore_index=True) \n",
    "\n",
    "new_df.to_csv('population_data_real.csv', index=False)\n",
    "new_df_age.to_csv('./real_world_data/population_data_age.csv', index=False)"
   ]
  },
  {
   "cell_type": "code",
   "execution_count": 2,
   "metadata": {},
   "outputs": [],
   "source": [
    "# all_cases = pd.read_csv(\"real_original_data/all_cases.csv\")\n",
    "# all_cases = all_cases[all_cases[\"outcome\"].isin([\"case\"])]\n",
    "\n",
    "# all_cases_g1 = all_cases[all_cases[\"Age group\"].isin([\"12-17\", \"18-29\", \"30-49\", \"50-64\",])].copy()\n",
    "# all_cases_g2 = all_cases[all_cases[\"Age group\"].isin([\"65-79\", \"80+\"])].copy()\n",
    "\n",
    "# all_cases_g1 = all_cases_g1.groupby(\"MMWR week\")[[\"Vaccinated with outcome\", \"Unvaccinated with outcome\"]].sum().reset_index()\n",
    "# all_cases_g2 = all_cases_g2.groupby(\"MMWR week\")[[\"Vaccinated with outcome\", \"Unvaccinated with outcome\"]].sum().reset_index()\n",
    "\n",
    "# all_cases_g1[\"Cases\"] = all_cases_g1[\"Vaccinated with outcome\"] + all_cases_g1[\"Unvaccinated with outcome\"]\n",
    "# all_cases_g2[\"Cases\"] = all_cases_g2[\"Vaccinated with outcome\"] + all_cases_g2[\"Unvaccinated with outcome\"]\n",
    "\n",
    "# fin_cases = pd.DataFrame(columns={\"G1\", \"G2\"}, index=np.arange(52))\n",
    "# fin_cases[\"G1\"] = all_cases_g1.loc[-52:, \"Cases\"]\n",
    "# fin_cases[\"G2\"] = all_cases_g2.loc[-52:, \"Cases\"]\n",
    "\n",
    "# fin_cases.to_csv('./real_world_data/case_data_age.csv', index=False)"
   ]
  },
  {
   "cell_type": "code",
   "execution_count": 14,
   "metadata": {},
   "outputs": [
    {
     "name": "stdout",
     "output_type": "stream",
     "text": [
      "True\n"
     ]
    }
   ],
   "source": [
    "np.random.seed(42)\n",
    "case_data = pd.read_csv(\"real_world_data/case_data.csv\")\n",
    "\n",
    "case_data_g1 = pd.DataFrame(0, index=case_data.index, columns=case_data.columns, dtype=int)\n",
    "case_data_g2 = pd.DataFrame(0, index=case_data.index, columns=case_data.columns, dtype=int)\n",
    "\n",
    "for i in range(case_data.shape[0]):\n",
    "    for j in range(case_data.shape[1]):\n",
    "        fraction = 0.1 + (0.4 - 0.1) * np.random.rand()  \n",
    "        case_data_g1.iloc[i, j] = np.round(case_data.iloc[i, j] * fraction)\n",
    "        case_data_g2.iloc[i, j] = case_data.iloc[i, j] - case_data_g1.iloc[i, j]  \n",
    "\n",
    "print(np.all(case_data == (case_data_g1 + case_data_g2)))\n",
    "\n",
    "case_data_g1.to_csv(\"real_world_data/case_data_g1\", index=False)\n",
    "case_data_g2.to_csv(\"real_world_data/case_data_g2\", index=False)"
   ]
  },
  {
   "cell_type": "code",
   "execution_count": null,
   "metadata": {},
   "outputs": [],
   "source": []
  }
 ],
 "metadata": {
  "kernelspec": {
   "display_name": "cor",
   "language": "python",
   "name": "python3"
  },
  "language_info": {
   "codemirror_mode": {
    "name": "ipython",
    "version": 3
   },
   "file_extension": ".py",
   "mimetype": "text/x-python",
   "name": "python",
   "nbconvert_exporter": "python",
   "pygments_lexer": "ipython3",
   "version": "3.9.13"
  }
 },
 "nbformat": 4,
 "nbformat_minor": 2
}
